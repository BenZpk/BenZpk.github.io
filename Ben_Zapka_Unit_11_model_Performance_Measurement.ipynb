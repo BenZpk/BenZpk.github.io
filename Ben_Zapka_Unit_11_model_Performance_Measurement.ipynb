{
  "cells": [
    {
      "cell_type": "markdown",
      "metadata": {
        "id": "v_lFn3y7YjKD"
      },
      "source": [
        "### Model performance measurement\n",
        "\n",
        "#### Confusion Matrix"
      ],
      "id": "v_lFn3y7YjKD"
    },
    {
      "cell_type": "code",
      "execution_count": null,
      "metadata": {
        "id": "XHdxyvMPYjKF"
      },
      "outputs": [],
      "source": [
        "from sklearn.metrics import confusion_matrix"
      ],
      "id": "XHdxyvMPYjKF"
    },
    {
      "cell_type": "code",
      "execution_count": null,
      "metadata": {
        "colab": {
          "base_uri": "https://localhost:8080/"
        },
        "id": "CogUSTZCYjKG",
        "outputId": "b7056ab4-cff5-4c44-f6b7-17f8632ab2ce"
      },
      "outputs": [
        {
          "output_type": "execute_result",
          "data": {
            "text/plain": [
              "(0, 2, 1, 1)"
            ]
          },
          "metadata": {},
          "execution_count": 2
        }
      ],
      "source": [
        "tn, fp, fn, tp = confusion_matrix([0, 1, 0, 1], [1, 1, 1, 0]).ravel()\n",
        "(tn, fp, fn, tp)"
      ],
      "id": "CogUSTZCYjKG"
    },
    {
      "cell_type": "code",
      "execution_count": null,
      "metadata": {
        "colab": {
          "base_uri": "https://localhost:8080/",
          "height": 455
        },
        "id": "gEbVxMVrYjKG",
        "outputId": "3be31492-8c58-46f6-d857-2090d23f9a80"
      },
      "outputs": [
        {
          "output_type": "display_data",
          "data": {
            "text/plain": [
              "<Figure size 640x480 with 2 Axes>"
            ],
            "image/png": "[encoded data removed]"
          },
          "metadata": {}
        }
      ],
      "source": [
        "import matplotlib.pyplot as plt\n",
        "from sklearn.datasets import make_classification\n",
        "from sklearn.metrics import confusion_matrix, ConfusionMatrixDisplay\n",
        "from sklearn.model_selection import train_test_split\n",
        "from sklearn.svm import SVC\n",
        "X, y = make_classification(random_state=0)\n",
        "X_train, X_test, y_train, y_test = train_test_split(X, y,\n",
        "                                                    random_state=0)\n",
        "clf = SVC(random_state=0)\n",
        "clf.fit(X_train, y_train)\n",
        "SVC(random_state=0)\n",
        "predictions = clf.predict(X_test)\n",
        "cm = confusion_matrix(y_test, predictions, labels=clf.classes_)\n",
        "disp = ConfusionMatrixDisplay(confusion_matrix=cm,\n",
        "                               display_labels=clf.classes_)\n",
        "disp.plot()\n",
        "\n",
        "plt.show()\n"
      ],
      "id": "gEbVxMVrYjKG"
    },
    {
      "cell_type": "markdown",
      "metadata": {
        "id": "Hvtl_Qs8YjKH"
      },
      "source": [
        "#### F1, Accuracy, Recall, AUC and Precision scores"
      ],
      "id": "Hvtl_Qs8YjKH"
    },
    {
      "cell_type": "code",
      "execution_count": null,
      "metadata": {
        "colab": {
          "base_uri": "https://localhost:8080/"
        },
        "id": "J1TVQq1ZYjKH",
        "outputId": "cfa5b966-ff56-42bd-c4cf-d8fd220ed86e"
      },
      "outputs": [
        {
          "output_type": "stream",
          "name": "stdout",
          "text": [
            "Macro f1 score: 0.26666666666666666\n",
            "Micro F1: 0.3333333333333333\n",
            "Weighted Average F1: 0.26666666666666666\n",
            "F1 No Average: [0.8 0.  0. ]\n",
            "F1 No Average: [0.66666667 1.         0.66666667]\n"
          ]
        }
      ],
      "source": [
        "from sklearn.metrics import f1_score\n",
        "\n",
        "y_true = [0, 1, 2, 0, 1, 2]\n",
        "y_pred = [0, 2, 1, 0, 0, 1]\n",
        "\n",
        "print(f\"Macro f1 score: {f1_score(y_true, y_pred, average='macro')}\")\n",
        "\n",
        "print(f\"Micro F1: {f1_score(y_true, y_pred, average='micro')}\")\n",
        "\n",
        "print(f\"Weighted Average F1: {f1_score(y_true, y_pred, average='weighted')}\")\n",
        "\n",
        "print(f\"F1 No Average: {f1_score(y_true, y_pred, average=None)}\")\n",
        "\n",
        "y_true = [0, 0, 0, 0, 0, 0]\n",
        "y_pred = [0, 0, 0, 0, 0, 0]\n",
        "f1_score(y_true, y_pred, zero_division=1)\n",
        "\n",
        "# multilabel classification\n",
        "y_true = [[0, 0, 0], [1, 1, 1], [0, 1, 1]]\n",
        "y_pred = [[0, 0, 0], [1, 1, 1], [1, 1, 0]]\n",
        "print(f\"F1 No Average: {f1_score(y_true, y_pred, average=None)}\")\n"
      ],
      "id": "J1TVQq1ZYjKH"
    },
    {
      "cell_type": "code",
      "execution_count": null,
      "metadata": {
        "colab": {
          "base_uri": "https://localhost:8080/"
        },
        "id": "S_B15KOoYjKI",
        "outputId": "17c7bb69-31e3-4f80-cdba-2742f1ed0b50"
      },
      "outputs": [
        {
          "output_type": "execute_result",
          "data": {
            "text/plain": [
              "0.5"
            ]
          },
          "metadata": {},
          "execution_count": 5
        }
      ],
      "source": [
        " from sklearn.metrics import accuracy_score\n",
        "y_pred = [0, 2, 1, 3]\n",
        "y_true = [0, 1, 2, 3]\n",
        "accuracy_score(y_true, y_pred)"
      ],
      "id": "S_B15KOoYjKI"
    },
    {
      "cell_type": "code",
      "execution_count": null,
      "metadata": {
        "colab": {
          "base_uri": "https://localhost:8080/"
        },
        "id": "oi2SJTKjYjKI",
        "outputId": "c25ee4a8-1457-4806-8aa9-0b556db590eb"
      },
      "outputs": [
        {
          "output_type": "execute_result",
          "data": {
            "text/plain": [
              "0.2222222222222222"
            ]
          },
          "metadata": {},
          "execution_count": 6
        }
      ],
      "source": [
        "from sklearn.metrics import precision_score\n",
        "y_true = [0, 1, 2, 0, 1, 2]\n",
        "y_pred = [0, 2, 1, 0, 0, 1]\n",
        "precision_score(y_true, y_pred, average='macro')"
      ],
      "id": "oi2SJTKjYjKI"
    },
    {
      "cell_type": "code",
      "execution_count": null,
      "metadata": {
        "colab": {
          "base_uri": "https://localhost:8080/"
        },
        "id": "SyDTdPSdYjKI",
        "outputId": "a5354c5f-a84f-4e8d-c36d-4ad5fa358572"
      },
      "outputs": [
        {
          "output_type": "execute_result",
          "data": {
            "text/plain": [
              "0.3333333333333333"
            ]
          },
          "metadata": {},
          "execution_count": 7
        }
      ],
      "source": [
        "from sklearn.metrics import recall_score\n",
        "y_true = [0, 1, 2, 0, 1, 2]\n",
        "y_pred = [0, 2, 1, 0, 0, 1]\n",
        "recall_score(y_true, y_pred, average='macro')"
      ],
      "id": "SyDTdPSdYjKI"
    },
    {
      "cell_type": "code",
      "execution_count": null,
      "metadata": {
        "colab": {
          "base_uri": "https://localhost:8080/"
        },
        "id": "uLyrhpQBYjKJ",
        "outputId": "02cd0e94-e05a-4038-c555-207238df5e82"
      },
      "outputs": [
        {
          "output_type": "stream",
          "name": "stdout",
          "text": [
            "              precision    recall  f1-score   support\n",
            "\n",
            "     class 0       0.50      1.00      0.67         1\n",
            "     class 1       0.00      0.00      0.00         1\n",
            "     class 2       1.00      0.67      0.80         3\n",
            "\n",
            "    accuracy                           0.60         5\n",
            "   macro avg       0.50      0.56      0.49         5\n",
            "weighted avg       0.70      0.60      0.61         5\n",
            "\n"
          ]
        }
      ],
      "source": [
        "from sklearn.metrics import classification_report\n",
        "y_true = [0, 1, 2, 2, 2]\n",
        "y_pred = [0, 0, 2, 2, 1]\n",
        "target_names = ['class 0', 'class 1', 'class 2']\n",
        "print(classification_report(y_true, y_pred, target_names=target_names))"
      ],
      "id": "uLyrhpQBYjKJ"
    },
    {
      "cell_type": "code",
      "execution_count": null,
      "metadata": {
        "colab": {
          "base_uri": "https://localhost:8080/"
        },
        "id": "roBUWyKmYjKJ",
        "outputId": "25bbfc62-0d80-4114-9f6b-5c957325a0e0"
      },
      "outputs": [
        {
          "output_type": "execute_result",
          "data": {
            "text/plain": [
              "0.994767718408118"
            ]
          },
          "metadata": {},
          "execution_count": 9
        }
      ],
      "source": [
        "from sklearn.datasets import load_breast_cancer\n",
        "from sklearn.linear_model import LogisticRegression\n",
        "from sklearn.metrics import roc_auc_score\n",
        "X, y = load_breast_cancer(return_X_y=True)\n",
        "clf = LogisticRegression(solver=\"liblinear\", random_state=0).fit(X, y)\n",
        "roc_auc_score(y, clf.predict_proba(X)[:, 1])\n"
      ],
      "id": "roBUWyKmYjKJ"
    },
    {
      "cell_type": "code",
      "execution_count": null,
      "metadata": {
        "colab": {
          "base_uri": "https://localhost:8080/"
        },
        "id": "_TjyKpXtYjKK",
        "outputId": "2ce5608e-ca1e-4a65-c5d2-e8f38329b55f"
      },
      "outputs": [
        {
          "output_type": "execute_result",
          "data": {
            "text/plain": [
              "0.9913333333333334"
            ]
          },
          "metadata": {},
          "execution_count": 10
        }
      ],
      "source": [
        "#multiclass case\n",
        "from sklearn.datasets import load_iris\n",
        "X, y = load_iris(return_X_y=True)\n",
        "clf = LogisticRegression(solver=\"liblinear\").fit(X, y)\n",
        "roc_auc_score(y, clf.predict_proba(X), multi_class='ovr')"
      ],
      "id": "_TjyKpXtYjKK"
    },
    {
      "cell_type": "code",
      "execution_count": null,
      "metadata": {
        "id": "Z01ue013YjKK"
      },
      "outputs": [],
      "source": [
        "import numpy as np\n",
        "import matplotlib.pyplot as plt\n",
        "from itertools import cycle\n",
        "\n",
        "from sklearn import svm, datasets\n",
        "from sklearn.metrics import roc_curve, auc\n",
        "from sklearn.model_selection import train_test_split\n",
        "from sklearn.preprocessing import label_binarize\n",
        "from sklearn.multiclass import OneVsRestClassifier\n",
        "from sklearn.metrics import roc_auc_score\n",
        "\n",
        "# Import some data to play with\n",
        "iris = datasets.load_iris()\n",
        "X = iris.data\n",
        "y = iris.target\n",
        "\n",
        "# Binarize the output\n",
        "y = label_binarize(y, classes=[0, 1, 2])\n",
        "n_classes = y.shape[1]\n",
        "\n",
        "# Add noisy features to make the problem harder\n",
        "random_state = np.random.RandomState(0)\n",
        "n_samples, n_features = X.shape\n",
        "X = np.c_[X, random_state.randn(n_samples, 200 * n_features)]\n",
        "\n",
        "# shuffle and split training and test sets\n",
        "X_train, X_test, y_train, y_test = train_test_split(X, y, test_size=0.5, random_state=0)\n",
        "\n",
        "# Learn to predict each class against the other\n",
        "classifier = OneVsRestClassifier(\n",
        "    svm.SVC(kernel=\"linear\", probability=True, random_state=random_state)\n",
        ")\n",
        "y_score = classifier.fit(X_train, y_train).decision_function(X_test)\n",
        "\n",
        "# Compute ROC curve and ROC area for each class\n",
        "fpr = dict()\n",
        "tpr = dict()\n",
        "roc_auc = dict()\n",
        "for i in range(n_classes):\n",
        "    fpr[i], tpr[i], _ = roc_curve(y_test[:, i], y_score[:, i])\n",
        "    roc_auc[i] = auc(fpr[i], tpr[i])\n",
        "\n",
        "# Compute micro-average ROC curve and ROC area\n",
        "fpr[\"micro\"], tpr[\"micro\"], _ = roc_curve(y_test.ravel(), y_score.ravel())\n",
        "roc_auc[\"micro\"] = auc(fpr[\"micro\"], tpr[\"micro\"])"
      ],
      "id": "Z01ue013YjKK"
    },
    {
      "cell_type": "code",
      "execution_count": null,
      "metadata": {
        "colab": {
          "base_uri": "https://localhost:8080/",
          "height": 472
        },
        "id": "kNjAg8bSYjKK",
        "outputId": "fd8a352d-557d-43a5-bbcc-553f30c9c422"
      },
      "outputs": [
        {
          "output_type": "display_data",
          "data": {
            "text/plain": [
              "<Figure size 640x480 with 1 Axes>"
            ],
            "image/png": "[encoded data removed]"
          },
          "metadata": {}
        }
      ],
      "source": [
        "plt.figure()\n",
        "lw = 2\n",
        "plt.plot(\n",
        "    fpr[2],\n",
        "    tpr[2],\n",
        "    color=\"darkorange\",\n",
        "    lw=lw,\n",
        "    label=\"ROC curve (area = %0.2f)\" % roc_auc[2],\n",
        ")\n",
        "plt.plot([0, 1], [0, 1], color=\"navy\", lw=lw, linestyle=\"--\")\n",
        "plt.xlim([0.0, 1.0])\n",
        "plt.ylim([0.0, 1.05])\n",
        "plt.xlabel(\"False Positive Rate\")\n",
        "plt.ylabel(\"True Positive Rate\")\n",
        "plt.title(\"Receiver operating characteristic example\")\n",
        "plt.legend(loc=\"lower right\")\n",
        "plt.show()\n"
      ],
      "id": "kNjAg8bSYjKK"
    },
    {
      "cell_type": "code",
      "execution_count": null,
      "metadata": {
        "colab": {
          "base_uri": "https://localhost:8080/"
        },
        "id": "P26jL98dYjKL",
        "outputId": "f71f553a-1fd1-47b7-f6a3-73457c922811"
      },
      "outputs": [
        {
          "output_type": "execute_result",
          "data": {
            "text/plain": [
              "0.21616187468057912"
            ]
          },
          "metadata": {},
          "execution_count": 13
        }
      ],
      "source": [
        "from sklearn.metrics import log_loss\n",
        "log_loss([\"spam\", \"ham\", \"ham\", \"spam\"], [[.1, .9], [.9, .1], [.8, .2], [.35, .65]])"
      ],
      "id": "P26jL98dYjKL"
    },
    {
      "cell_type": "markdown",
      "source": [
        "### Own evaluation of changes to different parameters and their effect on AUC"
      ],
      "metadata": {
        "id": "DC0HNQ1iY2aa"
      },
      "id": "DC0HNQ1iY2aa"
    },
    {
      "cell_type": "markdown",
      "source": [
        "**I change the test size to 0.2, i.e., decrease it to 20%:**"
      ],
      "metadata": {
        "id": "HSZbLhG_Rzr3"
      },
      "id": "HSZbLhG_Rzr3"
    },
    {
      "cell_type": "code",
      "source": [
        "import numpy as np\n",
        "import matplotlib.pyplot as plt\n",
        "from itertools import cycle\n",
        "\n",
        "from sklearn import svm, datasets\n",
        "from sklearn.metrics import roc_curve, auc\n",
        "from sklearn.model_selection import train_test_split\n",
        "from sklearn.preprocessing import label_binarize\n",
        "from sklearn.multiclass import OneVsRestClassifier\n",
        "from sklearn.metrics import roc_auc_score\n",
        "\n",
        "# Import some data to play with\n",
        "iris = datasets.load_iris()\n",
        "X = iris.data\n",
        "y = iris.target\n",
        "\n",
        "# Binarize the output\n",
        "y = label_binarize(y, classes=[0, 1, 2])\n",
        "n_classes = y.shape[1]\n",
        "\n",
        "# Add noisy features to make the problem harder\n",
        "random_state = np.random.RandomState(0)\n",
        "n_samples, n_features = X.shape\n",
        "X = np.c_[X, random_state.randn(n_samples, 200 * n_features)]\n",
        "\n",
        "# shuffle and split training and test sets\n",
        "X_train, X_test, y_train, y_test = train_test_split(X, y, test_size=0.2, random_state=0)\n",
        "\n",
        "# Learn to predict each class against the other\n",
        "classifier = OneVsRestClassifier(\n",
        "    svm.SVC(kernel=\"linear\", probability=True, random_state=random_state)\n",
        ")\n",
        "y_score = classifier.fit(X_train, y_train).decision_function(X_test)\n",
        "\n",
        "# Compute ROC curve and ROC area for each class\n",
        "fpr = dict()\n",
        "tpr = dict()\n",
        "roc_auc = dict()\n",
        "for i in range(n_classes):\n",
        "    fpr[i], tpr[i], _ = roc_curve(y_test[:, i], y_score[:, i])\n",
        "    roc_auc[i] = auc(fpr[i], tpr[i])\n",
        "\n",
        "# Compute micro-average ROC curve and ROC area\n",
        "fpr[\"micro\"], tpr[\"micro\"], _ = roc_curve(y_test.ravel(), y_score.ravel())\n",
        "roc_auc[\"micro\"] = auc(fpr[\"micro\"], tpr[\"micro\"])\n",
        "\n",
        "# Plot the ROC curve:\n",
        "plt.figure()\n",
        "lw = 2\n",
        "plt.plot(\n",
        "    fpr[2],\n",
        "    tpr[2],\n",
        "    color=\"darkorange\",\n",
        "    lw=lw,\n",
        "    label=\"ROC curve (area = %0.2f)\" % roc_auc[2],\n",
        ")\n",
        "plt.plot([0, 1], [0, 1], color=\"navy\", lw=lw, linestyle=\"--\")\n",
        "plt.xlim([0.0, 1.0])\n",
        "plt.ylim([0.0, 1.05])\n",
        "plt.xlabel(\"False Positive Rate\")\n",
        "plt.ylabel(\"True Positive Rate\")\n",
        "plt.title(\"Receiver operating characteristic example\")\n",
        "plt.legend(loc=\"lower right\")\n",
        "plt.show()"
      ],
      "metadata": {
        "id": "1yFZ7QN1Y-BT",
        "colab": {
          "base_uri": "https://localhost:8080/",
          "height": 472
        },
        "outputId": "996f95e8-cceb-434e-87f8-855fcd411aaf"
      },
      "id": "1yFZ7QN1Y-BT",
      "execution_count": 2,
      "outputs": [
        {
          "output_type": "display_data",
          "data": {
            "text/plain": [
              "<Figure size 640x480 with 1 Axes>"
            ],
            "image/png": "[encoded data removed]"
          },
          "metadata": {}
        }
      ]
    },
    {
      "cell_type": "markdown",
      "source": [
        "**Result:** We see that a change of the training/test spilt from 50/50 to 80/20 significantly increased the performance of the model. The area under the ROC curve increased from 0.79 to 0.86."
      ],
      "metadata": {
        "id": "ttjrZHhMSPJc"
      },
      "id": "ttjrZHhMSPJc"
    },
    {
      "cell_type": "markdown",
      "source": [
        "**Next, I increase the noise that is added to the data:**"
      ],
      "metadata": {
        "id": "adl2YeqQSh4s"
      },
      "id": "adl2YeqQSh4s"
    },
    {
      "cell_type": "code",
      "source": [
        "import numpy as np\n",
        "import matplotlib.pyplot as plt\n",
        "from itertools import cycle\n",
        "\n",
        "from sklearn import svm, datasets\n",
        "from sklearn.metrics import roc_curve, auc\n",
        "from sklearn.model_selection import train_test_split\n",
        "from sklearn.preprocessing import label_binarize\n",
        "from sklearn.multiclass import OneVsRestClassifier\n",
        "from sklearn.metrics import roc_auc_score\n",
        "\n",
        "# Import some data to play with\n",
        "iris = datasets.load_iris()\n",
        "X = iris.data\n",
        "y = iris.target\n",
        "\n",
        "# Binarize the output\n",
        "y = label_binarize(y, classes=[0, 1, 2])\n",
        "n_classes = y.shape[1]\n",
        "\n",
        "# Add noisy features to make the problem harder\n",
        "random_state = np.random.RandomState(0)\n",
        "n_samples, n_features = X.shape\n",
        "X = np.c_[X, random_state.randn(n_samples, 2000 * n_features)] #here, I increase the noise that is added to the data in comparison with the version before\n",
        "\n",
        "# shuffle and split training and test sets\n",
        "X_train, X_test, y_train, y_test = train_test_split(X, y, test_size=0.2, random_state=0)\n",
        "\n",
        "# Learn to predict each class against the other\n",
        "classifier = OneVsRestClassifier(\n",
        "    svm.SVC(kernel=\"linear\", probability=True, random_state=random_state)\n",
        ")\n",
        "y_score = classifier.fit(X_train, y_train).decision_function(X_test)\n",
        "\n",
        "# Compute ROC curve and ROC area for each class\n",
        "fpr = dict()\n",
        "tpr = dict()\n",
        "roc_auc = dict()\n",
        "for i in range(n_classes):\n",
        "    fpr[i], tpr[i], _ = roc_curve(y_test[:, i], y_score[:, i])\n",
        "    roc_auc[i] = auc(fpr[i], tpr[i])\n",
        "\n",
        "# Compute micro-average ROC curve and ROC area\n",
        "fpr[\"micro\"], tpr[\"micro\"], _ = roc_curve(y_test.ravel(), y_score.ravel())\n",
        "roc_auc[\"micro\"] = auc(fpr[\"micro\"], tpr[\"micro\"])\n",
        "\n",
        "# Plot the ROC curve:\n",
        "plt.figure()\n",
        "lw = 2\n",
        "plt.plot(\n",
        "    fpr[2],\n",
        "    tpr[2],\n",
        "    color=\"darkorange\",\n",
        "    lw=lw,\n",
        "    label=\"ROC curve (area = %0.2f)\" % roc_auc[2],\n",
        ")\n",
        "plt.plot([0, 1], [0, 1], color=\"navy\", lw=lw, linestyle=\"--\")\n",
        "plt.xlim([0.0, 1.0])\n",
        "plt.ylim([0.0, 1.05])\n",
        "plt.xlabel(\"False Positive Rate\")\n",
        "plt.ylabel(\"True Positive Rate\")\n",
        "plt.title(\"Receiver operating characteristic example\")\n",
        "plt.legend(loc=\"lower right\")\n",
        "plt.show()"
      ],
      "metadata": {
        "colab": {
          "base_uri": "https://localhost:8080/",
          "height": 472
        },
        "id": "lxykqapUSkBE",
        "outputId": "42a759b8-dd5f-4c56-b937-ca92000c3c76"
      },
      "id": "lxykqapUSkBE",
      "execution_count": 3,
      "outputs": [
        {
          "output_type": "display_data",
          "data": {
            "text/plain": [
              "<Figure size 640x480 with 1 Axes>"
            ],
            "image/png": "[encoded data removed]"
          },
          "metadata": {}
        }
      ]
    },
    {
      "cell_type": "markdown",
      "source": [
        "**Result:** We see that increasing the noise sharply led to a decrease of the area under the ROC curve, i.e., the model lost some performance."
      ],
      "metadata": {
        "id": "zDNNftg-S2PM"
      },
      "id": "zDNNftg-S2PM"
    },
    {
      "cell_type": "markdown",
      "source": [
        "**Overall, this shows that the noisier the data is, the harder it becomes to create a fitting classifier. Furthermore, a training/test spilt of 80/20 is superior to the split of 50/50 which uses too much data for testing and leaves not enough data for training, leading to a worse learning of the relevant features. This should both be kept in mind when putting together a classification.**"
      ],
      "metadata": {
        "id": "a3jyLVYbUCTt"
      },
      "id": "a3jyLVYbUCTt"
    },
    {
      "cell_type": "markdown",
      "metadata": {
        "id": "o6yvaiI9YjKL"
      },
      "source": [
        "### Regression metrics"
      ],
      "id": "o6yvaiI9YjKL"
    },
    {
      "cell_type": "markdown",
      "metadata": {
        "id": "09y6x0BtYjKL"
      },
      "source": [
        "#### RMSE"
      ],
      "id": "09y6x0BtYjKL"
    },
    {
      "cell_type": "code",
      "execution_count": null,
      "metadata": {
        "colab": {
          "base_uri": "https://localhost:8080/"
        },
        "id": "_hO_CPgNYjKM",
        "outputId": "9bcd9eab-fae2-48fa-c677-e878a56c0a33"
      },
      "outputs": [
        {
          "output_type": "execute_result",
          "data": {
            "text/plain": [
              "0.375"
            ]
          },
          "metadata": {},
          "execution_count": 15
        }
      ],
      "source": [
        "from sklearn.metrics import mean_squared_error\n",
        "y_true = [3, -0.5, 2, 7]\n",
        "y_pred = [2.5, 0.0, 2, 8]\n",
        "mean_squared_error(y_true, y_pred)"
      ],
      "id": "_hO_CPgNYjKM"
    },
    {
      "cell_type": "markdown",
      "metadata": {
        "id": "IbOICvAlYjKM"
      },
      "source": [
        "#### MAE"
      ],
      "id": "IbOICvAlYjKM"
    },
    {
      "cell_type": "code",
      "execution_count": null,
      "metadata": {
        "colab": {
          "base_uri": "https://localhost:8080/"
        },
        "id": "-P9cZkT5YjKM",
        "outputId": "27b8a5fd-3c3a-488a-e485-a383b5972353"
      },
      "outputs": [
        {
          "output_type": "execute_result",
          "data": {
            "text/plain": [
              "0.5"
            ]
          },
          "metadata": {},
          "execution_count": 14
        }
      ],
      "source": [
        "from sklearn.metrics import mean_absolute_error\n",
        "y_true = [3, -0.5, 2, 7]\n",
        "y_pred = [2.5, 0.0, 2, 8]\n",
        "mean_absolute_error(y_true, y_pred)"
      ],
      "id": "-P9cZkT5YjKM"
    },
    {
      "cell_type": "markdown",
      "metadata": {
        "id": "U4L2UzYaYjKM"
      },
      "source": [
        "#### r squared"
      ],
      "id": "U4L2UzYaYjKM"
    },
    {
      "cell_type": "code",
      "execution_count": null,
      "metadata": {
        "id": "2JPaY-L9YjKN"
      },
      "outputs": [],
      "source": [
        "from sklearn.metrics import r2_score\n",
        "\n",
        "r2_score(y_true, y_pred)"
      ],
      "id": "2JPaY-L9YjKN"
    },
    {
      "cell_type": "markdown",
      "source": [
        "### Own evaluation of changes to different parameters and their effect on R squared"
      ],
      "metadata": {
        "id": "ScXgnviibNJa"
      },
      "id": "ScXgnviibNJa"
    },
    {
      "cell_type": "code",
      "source": [
        "# relatively close y_true and y_pred\n",
        "from sklearn.metrics import r2_score\n",
        "y_true = [3, -0.5, 2, 7]\n",
        "y_pred = [2.5, 0.0, 2, 8]\n",
        "r2_score(y_true, y_pred)"
      ],
      "metadata": {
        "colab": {
          "base_uri": "https://localhost:8080/"
        },
        "id": "xgaYTE6QbQrq",
        "outputId": "feb60334-80da-4ba0-be35-15a9901f184b"
      },
      "id": "xgaYTE6QbQrq",
      "execution_count": null,
      "outputs": [
        {
          "output_type": "execute_result",
          "data": {
            "text/plain": [
              "0.9486081370449679"
            ]
          },
          "metadata": {},
          "execution_count": 16
        }
      ]
    },
    {
      "cell_type": "markdown",
      "source": [
        "**Interpretation:** We see that here y_true and y_pred are relatively close to each other. This resulted in a high R squared score of about 0.9486."
      ],
      "metadata": {
        "id": "GYG-fEB4bifd"
      },
      "id": "GYG-fEB4bifd"
    },
    {
      "cell_type": "code",
      "source": [
        "# increased difference among y_true and y_pred\n",
        "from sklearn.metrics import r2_score\n",
        "y_true = [3, 4, 5, 8]\n",
        "y_pred = [1, 3, 4, 6]\n",
        "r2_score(y_true, y_pred)"
      ],
      "metadata": {
        "colab": {
          "base_uri": "https://localhost:8080/"
        },
        "id": "aU4nv_gJbt-J",
        "outputId": "d243edd3-1672-468d-a644-5d9b395448b0"
      },
      "id": "aU4nv_gJbt-J",
      "execution_count": null,
      "outputs": [
        {
          "output_type": "execute_result",
          "data": {
            "text/plain": [
              "0.2857142857142857"
            ]
          },
          "metadata": {},
          "execution_count": 25
        }
      ]
    },
    {
      "cell_type": "markdown",
      "source": [
        "**Interpretation:** We see that increasing the difference between y_true and y_pred significantly decreases the resulting R squared score."
      ],
      "metadata": {
        "id": "g0mh5-PacRwR"
      },
      "id": "g0mh5-PacRwR"
    },
    {
      "cell_type": "code",
      "source": [
        "# perfect prediction:\n",
        "from sklearn.metrics import r2_score\n",
        "y_true = [3, 4, 5, 8]\n",
        "y_pred = [3, 4, 5, 8]\n",
        "r2_score(y_true, y_pred)"
      ],
      "metadata": {
        "colab": {
          "base_uri": "https://localhost:8080/"
        },
        "id": "PRhydhgmcglx",
        "outputId": "8ba0d29b-d6bb-4210-e935-51f077b8ca25"
      },
      "id": "PRhydhgmcglx",
      "execution_count": null,
      "outputs": [
        {
          "output_type": "execute_result",
          "data": {
            "text/plain": [
              "1.0"
            ]
          },
          "metadata": {},
          "execution_count": 26
        }
      ]
    },
    {
      "cell_type": "markdown",
      "source": [
        "**Interpretation:** We see that a perfect predicition is shown by an R squared score of 1."
      ],
      "metadata": {
        "id": "dWiVHWYAbiS5"
      },
      "id": "dWiVHWYAbiS5"
    }
  ],
  "metadata": {
    "kernelspec": {
      "display_name": "Python 3",
      "name": "python3"
    },
    "language_info": {
      "codemirror_mode": {
        "name": "ipython",
        "version": 3
      },
      "file_extension": ".py",
      "mimetype": "text/x-python",
      "name": "python",
      "nbconvert_exporter": "python",
      "pygments_lexer": "ipython3",
      "version": "3.7.6"
    },
    "colab": {
      "provenance": [],
      "gpuType": "T4"
    },
    "accelerator": "GPU"
  },
  "nbformat": 4,
  "nbformat_minor": 5
}