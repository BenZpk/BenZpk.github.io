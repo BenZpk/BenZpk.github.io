{
  "cells": [
    {
      "cell_type": "markdown",
      "metadata": {
        "id": "iaFkrSZuA-fo"
      },
      "source": [
        "### Author: Dr Mike Lakoju"
      ]
    },
    {
      "cell_type": "markdown",
      "metadata": {
        "id": "h-_J-2S8A-fs"
      },
      "source": [
        "    * If X is high, the value is approximately 1\n",
        "    * if X is small, the value is approximately 0"
      ]
    },
    {
      "cell_type": "markdown",
      "metadata": {
        "id": "ZNFi70eeA-ft"
      },
      "source": [
        "## Import Libraries"
      ]
    },
    {
      "cell_type": "code",
      "execution_count": null,
      "metadata": {
        "id": "pirlyu1ZA-fu"
      },
      "outputs": [],
      "source": [
        "import numpy as np"
      ]
    },
    {
      "cell_type": "markdown",
      "metadata": {
        "id": "2xmZiCTQA-fv"
      },
      "source": [
        "## Define the Sigmoid Function"
      ]
    },
    {
      "cell_type": "code",
      "execution_count": null,
      "metadata": {
        "id": "pHncwb4PA-fv"
      },
      "outputs": [],
      "source": [
        "def sigmoid(sum_func):\n",
        "  return 1 / (1 + np.exp(-sum_func))"
      ]
    },
    {
      "cell_type": "code",
      "execution_count": null,
      "metadata": {
        "colab": {
          "base_uri": "https://localhost:8080/"
        },
        "id": "bvfjHckeA-fv",
        "outputId": "a2da9a47-a81a-4195-852a-aa5cba1049e9"
      },
      "outputs": [
        {
          "output_type": "execute_result",
          "data": {
            "text/plain": [
              "0.5"
            ]
          },
          "metadata": {},
          "execution_count": 3
        }
      ],
      "source": [
        "sigmoid(0)"
      ]
    },
    {
      "cell_type": "code",
      "execution_count": null,
      "metadata": {
        "colab": {
          "base_uri": "https://localhost:8080/"
        },
        "id": "g_8fH9FHA-fw",
        "outputId": "fe77f12f-925c-4c12-e6cb-d0bb685d0867"
      },
      "outputs": [
        {
          "output_type": "execute_result",
          "data": {
            "text/plain": [
              "7.38905609893065"
            ]
          },
          "metadata": {},
          "execution_count": 4
        }
      ],
      "source": [
        "np.exp(2)"
      ]
    },
    {
      "cell_type": "code",
      "execution_count": null,
      "metadata": {
        "colab": {
          "base_uri": "https://localhost:8080/"
        },
        "id": "ngWYXocOA-fx",
        "outputId": "16ade6c7-6eaa-4908-9540-55124b7deb00"
      },
      "outputs": [
        {
          "output_type": "execute_result",
          "data": {
            "text/plain": [
              "2.718281828459045"
            ]
          },
          "metadata": {},
          "execution_count": 5
        }
      ],
      "source": [
        "np.exp(1)"
      ]
    },
    {
      "cell_type": "code",
      "execution_count": null,
      "metadata": {
        "colab": {
          "base_uri": "https://localhost:8080/"
        },
        "id": "hXMfyDOQA-fx",
        "outputId": "551add6d-4cf2-40ee-8a9b-4fb28b65c2cd"
      },
      "outputs": [
        {
          "output_type": "execute_result",
          "data": {
            "text/plain": [
              "1.0"
            ]
          },
          "metadata": {},
          "execution_count": 6
        }
      ],
      "source": [
        "sigmoid(40)"
      ]
    },
    {
      "cell_type": "code",
      "execution_count": null,
      "metadata": {
        "colab": {
          "base_uri": "https://localhost:8080/"
        },
        "id": "Q2ROXNw9A-fy",
        "outputId": "c5ebe982-7261-464e-e222-a395fb552165"
      },
      "outputs": [
        {
          "output_type": "execute_result",
          "data": {
            "text/plain": [
              "1.2501528648238605e-09"
            ]
          },
          "metadata": {},
          "execution_count": 7
        }
      ],
      "source": [
        "sigmoid(-20.5)"
      ]
    },
    {
      "cell_type": "markdown",
      "metadata": {
        "id": "Fbcq-NkHA-fy"
      },
      "source": [
        "# Input Layer to Hidden Layer"
      ]
    },
    {
      "cell_type": "markdown",
      "metadata": {
        "id": "Hul7ea4yA-fy"
      },
      "source": [
        "![Screenshot%202021-01-26%20at%2011.39.16%20am.png](attachment:Screenshot%202021-01-26%20at%2011.39.16%20am.png)"
      ]
    },
    {
      "cell_type": "markdown",
      "metadata": {
        "id": "Ogdx24m9A-fz"
      },
      "source": [
        "### Define \"Inputs, outputs and weights\" as Numpy arrays"
      ]
    },
    {
      "cell_type": "markdown",
      "metadata": {
        "id": "9qj1C7iIA-fz"
      },
      "source": [
        "#### Inputs"
      ]
    },
    {
      "cell_type": "code",
      "execution_count": null,
      "metadata": {
        "id": "b_VyMzh4A-fz"
      },
      "outputs": [],
      "source": [
        "inputs = np.array([[0,0],\n",
        "                   [0,1],\n",
        "                   [1,0],\n",
        "                   [1,1]])"
      ]
    },
    {
      "cell_type": "code",
      "execution_count": null,
      "metadata": {
        "colab": {
          "base_uri": "https://localhost:8080/"
        },
        "id": "jbVj4hCfA-fz",
        "outputId": "94fa8292-69e0-4bfb-e9a1-80a4bfee2f41"
      },
      "outputs": [
        {
          "output_type": "execute_result",
          "data": {
            "text/plain": [
              "array([[0, 0],\n",
              "       [0, 1],\n",
              "       [1, 0],\n",
              "       [1, 1]])"
            ]
          },
          "metadata": {},
          "execution_count": 9
        }
      ],
      "source": [
        "inputs"
      ]
    },
    {
      "cell_type": "code",
      "execution_count": null,
      "metadata": {
        "colab": {
          "base_uri": "https://localhost:8080/"
        },
        "id": "rfu77Cu3A-f0",
        "outputId": "4e74e43f-64ed-4be5-df42-0b0202fea036"
      },
      "outputs": [
        {
          "output_type": "execute_result",
          "data": {
            "text/plain": [
              "(4, 2)"
            ]
          },
          "metadata": {},
          "execution_count": 10
        }
      ],
      "source": [
        "inputs.shape"
      ]
    },
    {
      "cell_type": "markdown",
      "metadata": {
        "id": "VI_lZkl0A-f0"
      },
      "source": [
        "#### Outputs"
      ]
    },
    {
      "cell_type": "code",
      "execution_count": null,
      "metadata": {
        "id": "N3xHBhjPA-f0"
      },
      "outputs": [],
      "source": [
        "outputs = np.array([[0],\n",
        "                    [1],\n",
        "                    [1],\n",
        "                    [0]])"
      ]
    },
    {
      "cell_type": "code",
      "execution_count": null,
      "metadata": {
        "colab": {
          "base_uri": "https://localhost:8080/"
        },
        "id": "Wk6zacycA-f1",
        "outputId": "d0d51a77-b34e-467b-891f-761c65748dad"
      },
      "outputs": [
        {
          "output_type": "execute_result",
          "data": {
            "text/plain": [
              "(4, 1)"
            ]
          },
          "metadata": {},
          "execution_count": 12
        }
      ],
      "source": [
        "outputs.shape"
      ]
    },
    {
      "cell_type": "markdown",
      "metadata": {
        "id": "Se4mGEKnA-f1"
      },
      "source": [
        "### Weights"
      ]
    },
    {
      "cell_type": "markdown",
      "metadata": {
        "id": "koboBEJvA-f1"
      },
      "source": [
        "#### These weights are for the connection between the inputs and the hidden layer"
      ]
    },
    {
      "cell_type": "code",
      "execution_count": null,
      "metadata": {
        "colab": {
          "base_uri": "https://localhost:8080/"
        },
        "id": "sAaThMqCA-f2",
        "outputId": "3e60341a-91cd-4ec4-e8e7-73f74e10a1b3"
      },
      "outputs": [
        {
          "output_type": "execute_result",
          "data": {
            "text/plain": [
              "(2, 3)"
            ]
          },
          "metadata": {},
          "execution_count": 13
        }
      ],
      "source": [
        "# First row holds the weights for x1, 2nd row contains the weights for x2\n",
        "\n",
        "weights_0 = np.array([[-0.424, -0.740, -0.961],\n",
        "                     [0.358, -0.577, -0.469]])\n",
        "weights_0.shape"
      ]
    },
    {
      "cell_type": "markdown",
      "metadata": {
        "id": "2YqvZH2IA-f2"
      },
      "source": [
        "#### These weights are for the connection between the  hidden layer and the output"
      ]
    },
    {
      "cell_type": "code",
      "execution_count": null,
      "metadata": {
        "colab": {
          "base_uri": "https://localhost:8080/"
        },
        "id": "RFqPC9eBA-f2",
        "outputId": "69c951d6-69fd-4a1a-c1da-b2c0e8aed4f9"
      },
      "outputs": [
        {
          "output_type": "execute_result",
          "data": {
            "text/plain": [
              "(3, 1)"
            ]
          },
          "metadata": {},
          "execution_count": 14
        }
      ],
      "source": [
        "weights_1 = np.array([[-0.017],\n",
        "                     [-0.893],\n",
        "                     [0.148]])\n",
        "weights_1.shape"
      ]
    },
    {
      "cell_type": "markdown",
      "metadata": {
        "id": "SC6lrYLqA-f3"
      },
      "source": [
        "#### Epochs & Learning Rate"
      ]
    },
    {
      "cell_type": "code",
      "execution_count": null,
      "metadata": {
        "id": "rKXS8NL4A-f3"
      },
      "outputs": [],
      "source": [
        "epochs = 100\n",
        "learning_rate = 0.3"
      ]
    },
    {
      "cell_type": "code",
      "execution_count": null,
      "metadata": {
        "id": "6sagWq4uA-f3"
      },
      "outputs": [],
      "source": [
        "#for epoch in epochs:"
      ]
    },
    {
      "cell_type": "code",
      "execution_count": null,
      "metadata": {
        "colab": {
          "base_uri": "https://localhost:8080/"
        },
        "id": "tN9gLk2RA-f5",
        "outputId": "40bd1e3d-5dd0-483e-b8d7-b40abc1153c8"
      },
      "outputs": [
        {
          "output_type": "execute_result",
          "data": {
            "text/plain": [
              "array([[0, 0],\n",
              "       [0, 1],\n",
              "       [1, 0],\n",
              "       [1, 1]])"
            ]
          },
          "metadata": {},
          "execution_count": 17
        }
      ],
      "source": [
        "input_layer = inputs\n",
        "input_layer"
      ]
    },
    {
      "cell_type": "code",
      "execution_count": null,
      "metadata": {
        "colab": {
          "base_uri": "https://localhost:8080/"
        },
        "id": "3gT9fPk6A-f6",
        "outputId": "d1d7f13a-d0c3-4e08-a804-f6d2d0e11537"
      },
      "outputs": [
        {
          "output_type": "execute_result",
          "data": {
            "text/plain": [
              "array([[ 0.   ,  0.   ,  0.   ],\n",
              "       [ 0.358, -0.577, -0.469],\n",
              "       [-0.424, -0.74 , -0.961],\n",
              "       [-0.066, -1.317, -1.43 ]])"
            ]
          },
          "metadata": {},
          "execution_count": 18
        }
      ],
      "source": [
        "# \"sum_synapse_0\" This holds the sum function total of weights for the hidden layer\n",
        "# For the Output: Each row holds the sum_func for each input data  [0,0,0 -> data 0,0],[0.358, -0.577, -0.469 --> 0,1]\n",
        "# The dot product does the matrix multiplication and also the sum\n",
        "\n",
        "sum_synapse_0 = np.dot(input_layer, weights_0)\n",
        "sum_synapse_0"
      ]
    },
    {
      "cell_type": "code",
      "execution_count": null,
      "metadata": {
        "colab": {
          "base_uri": "https://localhost:8080/"
        },
        "id": "jqgo-hVxA-f6",
        "outputId": "efdfe29a-c4de-44a9-a329-a990f33dc524"
      },
      "outputs": [
        {
          "output_type": "execute_result",
          "data": {
            "text/plain": [
              "array([[0.5       , 0.5       , 0.5       ],\n",
              "       [0.5885562 , 0.35962319, 0.38485296],\n",
              "       [0.39555998, 0.32300414, 0.27667802],\n",
              "       [0.48350599, 0.21131785, 0.19309868]])"
            ]
          },
          "metadata": {},
          "execution_count": 19
        }
      ],
      "source": [
        "# Computing the Sigmoid function for the Hidden layer\n",
        "\n",
        "hidden_layer = sigmoid(sum_synapse_0)\n",
        "hidden_layer"
      ]
    },
    {
      "cell_type": "code",
      "execution_count": null,
      "metadata": {
        "colab": {
          "base_uri": "https://localhost:8080/"
        },
        "id": "4y87wuJ9A-f8",
        "outputId": "572200ab-6068-414d-93cc-82ce8769a0a4"
      },
      "outputs": [
        {
          "output_type": "execute_result",
          "data": {
            "text/plain": [
              "array([[-0.017],\n",
              "       [-0.893],\n",
              "       [ 0.148]])"
            ]
          },
          "metadata": {},
          "execution_count": 20
        }
      ],
      "source": [
        "weights_1"
      ]
    },
    {
      "cell_type": "code",
      "execution_count": null,
      "metadata": {
        "colab": {
          "base_uri": "https://localhost:8080/"
        },
        "id": "9JfCObHMA-f8",
        "outputId": "40fa1c91-4e19-43f5-c6a6-3641ec7c5d63"
      },
      "outputs": [
        {
          "output_type": "execute_result",
          "data": {
            "text/plain": [
              "array([[-0.381     ],\n",
              "       [-0.27419072],\n",
              "       [-0.25421887],\n",
              "       [-0.16834784]])"
            ]
          },
          "metadata": {},
          "execution_count": 21
        }
      ],
      "source": [
        "# \"sum_synapse_1\" This holds the sum function total of weights for the output layer\n",
        "# For the Output: Each row holds the sum_func for each input data\n",
        "\n",
        "sum_synapse_1 = np.dot(hidden_layer, weights_1)\n",
        "sum_synapse_1"
      ]
    },
    {
      "cell_type": "code",
      "execution_count": null,
      "metadata": {
        "colab": {
          "base_uri": "https://localhost:8080/"
        },
        "id": "EbnSVuAvA-f8",
        "outputId": "a60c7ebf-43ba-46a6-8397-01ae701eba0f"
      },
      "outputs": [
        {
          "output_type": "execute_result",
          "data": {
            "text/plain": [
              "array([[0.40588573],\n",
              "       [0.43187857],\n",
              "       [0.43678536],\n",
              "       [0.45801216]])"
            ]
          },
          "metadata": {},
          "execution_count": 22
        }
      ],
      "source": [
        "output_layer = sigmoid(sum_synapse_1)\n",
        "output_layer"
      ]
    },
    {
      "cell_type": "code",
      "execution_count": null,
      "metadata": {
        "colab": {
          "base_uri": "https://localhost:8080/"
        },
        "id": "FU9gs3UvA-f-",
        "outputId": "da4095e8-3f10-4074-e298-7759db93314a"
      },
      "outputs": [
        {
          "output_type": "execute_result",
          "data": {
            "text/plain": [
              "array([[0],\n",
              "       [1],\n",
              "       [1],\n",
              "       [0]])"
            ]
          },
          "metadata": {},
          "execution_count": 23
        }
      ],
      "source": [
        "outputs"
      ]
    },
    {
      "cell_type": "code",
      "execution_count": null,
      "metadata": {
        "colab": {
          "base_uri": "https://localhost:8080/"
        },
        "id": "OoVguScaA-f_",
        "outputId": "24b01398-1fd9-4f5c-97ec-335594bd44d4"
      },
      "outputs": [
        {
          "output_type": "execute_result",
          "data": {
            "text/plain": [
              "array([[0.40588573],\n",
              "       [0.43187857],\n",
              "       [0.43678536],\n",
              "       [0.45801216]])"
            ]
          },
          "metadata": {},
          "execution_count": 24
        }
      ],
      "source": [
        "output_layer"
      ]
    },
    {
      "cell_type": "code",
      "execution_count": null,
      "metadata": {
        "colab": {
          "base_uri": "https://localhost:8080/"
        },
        "id": "MLDDWhGiA-f_",
        "outputId": "72d0f659-6710-4289-a771-2e67df2b1465"
      },
      "outputs": [
        {
          "output_type": "execute_result",
          "data": {
            "text/plain": [
              "array([[-0.40588573],\n",
              "       [ 0.56812143],\n",
              "       [ 0.56321464],\n",
              "       [-0.45801216]])"
            ]
          },
          "metadata": {},
          "execution_count": 25
        }
      ],
      "source": [
        "error_output_layer = outputs - output_layer\n",
        "error_output_layer"
      ]
    },
    {
      "cell_type": "code",
      "execution_count": null,
      "metadata": {
        "colab": {
          "base_uri": "https://localhost:8080/"
        },
        "id": "yeihAulgA-f_",
        "outputId": "00fddcc3-f6e8-4dee-aaea-67e03c28857d"
      },
      "outputs": [
        {
          "output_type": "execute_result",
          "data": {
            "text/plain": [
              "0.49880848923713045"
            ]
          },
          "metadata": {},
          "execution_count": 26
        }
      ],
      "source": [
        "average_error = np.mean(abs(error_output_layer))\n",
        "average_error"
      ]
    },
    {
      "cell_type": "code",
      "execution_count": null,
      "metadata": {
        "id": "Dn9MIlxJA-gA"
      },
      "outputs": [],
      "source": [
        "def sigmoid_derivative(sigmoid):\n",
        "    return sigmoid * (1 - sigmoid)"
      ]
    },
    {
      "cell_type": "markdown",
      "metadata": {
        "id": "9NBt-CDLA-gA"
      },
      "source": [
        "# Delta output Calculation"
      ]
    },
    {
      "cell_type": "code",
      "execution_count": null,
      "metadata": {
        "colab": {
          "base_uri": "https://localhost:8080/"
        },
        "id": "lLnXuH7FA-gA",
        "outputId": "4175a3ce-7072-4309-a655-446ae5919f4b"
      },
      "outputs": [
        {
          "output_type": "execute_result",
          "data": {
            "text/plain": [
              "array([[0.40588573],\n",
              "       [0.43187857],\n",
              "       [0.43678536],\n",
              "       [0.45801216]])"
            ]
          },
          "metadata": {},
          "execution_count": 28
        }
      ],
      "source": [
        "# output_layer holds the results of our application of the sigmoid, computed above\n",
        "\n",
        "output_layer"
      ]
    },
    {
      "cell_type": "code",
      "execution_count": null,
      "metadata": {
        "colab": {
          "base_uri": "https://localhost:8080/"
        },
        "id": "8Od1Fr9FA-gB",
        "outputId": "57a12805-1088-49d7-d40b-a713c5961438"
      },
      "outputs": [
        {
          "output_type": "execute_result",
          "data": {
            "text/plain": [
              "array([[0.2411425 ],\n",
              "       [0.24535947],\n",
              "       [0.24600391],\n",
              "       [0.24823702]])"
            ]
          },
          "metadata": {},
          "execution_count": 29
        }
      ],
      "source": [
        "# derivative_output is our Derivative of the activation function (sigmoid) which we have on the slide\n",
        "# each row is for each instance of our input dataset\n",
        "\n",
        "derivative_output = sigmoid_derivative(output_layer)\n",
        "derivative_output"
      ]
    },
    {
      "cell_type": "code",
      "execution_count": null,
      "metadata": {
        "colab": {
          "base_uri": "https://localhost:8080/"
        },
        "id": "WjJP_w8WA-gB",
        "outputId": "cb2f925b-9127-465d-a5be-d86df4eff978"
      },
      "outputs": [
        {
          "output_type": "execute_result",
          "data": {
            "text/plain": [
              "array([[-0.40588573],\n",
              "       [ 0.56812143],\n",
              "       [ 0.56321464],\n",
              "       [-0.45801216]])"
            ]
          },
          "metadata": {},
          "execution_count": 30
        }
      ],
      "source": [
        "error_output_layer"
      ]
    },
    {
      "cell_type": "code",
      "execution_count": null,
      "metadata": {
        "colab": {
          "base_uri": "https://localhost:8080/"
        },
        "id": "jf0GfOfoA-gB",
        "outputId": "c5639066-1b2f-4493-d547-0d3fc513f219"
      },
      "outputs": [
        {
          "output_type": "execute_result",
          "data": {
            "text/plain": [
              "array([[-0.0978763 ],\n",
              "       [ 0.13939397],\n",
              "       [ 0.138553  ],\n",
              "       [-0.11369557]])"
            ]
          },
          "metadata": {},
          "execution_count": 31
        }
      ],
      "source": [
        "# Delta output\n",
        "# each row is for each instance of our input dataset\n",
        "\n",
        "delta_output = error_output_layer * derivative_output\n",
        "delta_output"
      ]
    },
    {
      "cell_type": "code",
      "execution_count": null,
      "metadata": {
        "colab": {
          "base_uri": "https://localhost:8080/"
        },
        "id": "FBGymGGoA-gC",
        "outputId": "2e82c5a9-e15d-494f-e6b7-14bacfbf8297"
      },
      "outputs": [
        {
          "output_type": "execute_result",
          "data": {
            "text/plain": [
              "array([[-0.0978763 ],\n",
              "       [ 0.13939397],\n",
              "       [ 0.138553  ],\n",
              "       [-0.11369557]])"
            ]
          },
          "metadata": {},
          "execution_count": 32
        }
      ],
      "source": [
        "delta_output"
      ]
    },
    {
      "cell_type": "code",
      "execution_count": null,
      "metadata": {
        "colab": {
          "base_uri": "https://localhost:8080/"
        },
        "id": "_kHFD40kA-gC",
        "outputId": "bdaf1314-3c86-4514-84a8-49d922483057"
      },
      "outputs": [
        {
          "output_type": "execute_result",
          "data": {
            "text/plain": [
              "array([[-0.017],\n",
              "       [-0.893],\n",
              "       [ 0.148]])"
            ]
          },
          "metadata": {},
          "execution_count": 33
        }
      ],
      "source": [
        "weights_1"
      ]
    },
    {
      "cell_type": "markdown",
      "metadata": {
        "id": "vS6kppejA-gC"
      },
      "source": [
        "#### NOTE THAT:\n",
        "    * Lets deal with this part first (Weight  * delta_output)\n",
        "    * Notice that we will get an error below becuase of the shape of the weights_1  (Transpose)"
      ]
    },
    {
      "cell_type": "code",
      "execution_count": null,
      "metadata": {
        "colab": {
          "base_uri": "https://localhost:8080/",
          "height": 141
        },
        "id": "tpYwlVgWA-gD",
        "outputId": "172ae8f6-8acf-40a7-8dea-c61e7b272269"
      },
      "outputs": [
        {
          "output_type": "error",
          "ename": "ValueError",
          "evalue": "shapes (4,1) and (3,1) not aligned: 1 (dim 1) != 3 (dim 0)",
          "traceback": [
            "\u001b[0;31m---------------------------------------------------------------------------\u001b[0m",
            "\u001b[0;31mValueError\u001b[0m                                Traceback (most recent call last)",
            "\u001b[0;32m<ipython-input-34-50b740e5a31c>\u001b[0m in \u001b[0;36m<cell line: 1>\u001b[0;34m()\u001b[0m\n\u001b[0;32m----> 1\u001b[0;31m \u001b[0mdelta_output_x_weight\u001b[0m \u001b[0;34m=\u001b[0m \u001b[0mdelta_output\u001b[0m\u001b[0;34m.\u001b[0m\u001b[0mdot\u001b[0m\u001b[0;34m(\u001b[0m\u001b[0mweights_1\u001b[0m\u001b[0;34m)\u001b[0m\u001b[0;34m\u001b[0m\u001b[0;34m\u001b[0m\u001b[0m\n\u001b[0m",
            "\u001b[0;31mValueError\u001b[0m: shapes (4,1) and (3,1) not aligned: 1 (dim 1) != 3 (dim 0)"
          ]
        }
      ],
      "source": [
        "delta_output_x_weight = delta_output.dot(weights_1)"
      ]
    },
    {
      "cell_type": "code",
      "execution_count": null,
      "metadata": {
        "colab": {
          "base_uri": "https://localhost:8080/"
        },
        "id": "79n6yo4dA-gE",
        "outputId": "29f0743f-9a65-45ce-f33f-8482774d8b6f"
      },
      "outputs": [
        {
          "output_type": "execute_result",
          "data": {
            "text/plain": [
              "(3, 1)"
            ]
          },
          "metadata": {},
          "execution_count": 35
        }
      ],
      "source": [
        "weights_1.shape"
      ]
    },
    {
      "cell_type": "code",
      "execution_count": null,
      "metadata": {
        "colab": {
          "base_uri": "https://localhost:8080/"
        },
        "id": "5bgeMnJJA-gE",
        "outputId": "51524b8d-4bce-4e56-9af9-ff4eb02fe539"
      },
      "outputs": [
        {
          "output_type": "execute_result",
          "data": {
            "text/plain": [
              "array([[-0.017, -0.893,  0.148]])"
            ]
          },
          "metadata": {},
          "execution_count": 36
        }
      ],
      "source": [
        "weights_1T = weights_1.T\n",
        "weights_1T"
      ]
    },
    {
      "cell_type": "code",
      "execution_count": null,
      "metadata": {
        "colab": {
          "base_uri": "https://localhost:8080/"
        },
        "id": "QF8S3zEKA-gE",
        "outputId": "25829c5e-c5fa-4119-f2f7-b9ee906c85eb"
      },
      "outputs": [
        {
          "output_type": "execute_result",
          "data": {
            "text/plain": [
              "(1, 3)"
            ]
          },
          "metadata": {},
          "execution_count": 37
        }
      ],
      "source": [
        "weights_1T.shape"
      ]
    },
    {
      "cell_type": "markdown",
      "metadata": {
        "id": "eGSQ3197A-gE"
      },
      "source": [
        "#### Each one of the weights will have to be multiplied by each delta_output for each data instance     \n",
        "       \n",
        "       array([[-0.017],\n",
        "             [-0.893],\n",
        "             [ 0.148]])"
      ]
    },
    {
      "cell_type": "code",
      "execution_count": null,
      "metadata": {
        "colab": {
          "base_uri": "https://localhost:8080/"
        },
        "id": "E-EgNX8JA-gE",
        "outputId": "f9079e93-b943-4628-8bc3-fce6c3670791"
      },
      "outputs": [
        {
          "output_type": "execute_result",
          "data": {
            "text/plain": [
              "array([[ 0.0016639 ,  0.08740354, -0.01448569],\n",
              "       [-0.0023697 , -0.12447882,  0.02063031],\n",
              "       [-0.0023554 , -0.12372783,  0.02050584],\n",
              "       [ 0.00193282,  0.10153015, -0.01682694]])"
            ]
          },
          "metadata": {},
          "execution_count": 38
        }
      ],
      "source": [
        "delta_output_x_weight = delta_output.dot(weights_1T)\n",
        "delta_output_x_weight"
      ]
    },
    {
      "cell_type": "markdown",
      "metadata": {
        "id": "FjyNKAJyA-gF"
      },
      "source": [
        "#### NOTE THAT:\n",
        "    * Now we need to deal with the last part of the equation   \n",
        "    * sigmoid_derivative * delta_output_x_weight"
      ]
    },
    {
      "cell_type": "code",
      "execution_count": null,
      "metadata": {
        "colab": {
          "base_uri": "https://localhost:8080/"
        },
        "id": "yDlsFUjWA-gF",
        "outputId": "b8339896-9ddb-4f55-d0b7-a1b5c96e11b9"
      },
      "outputs": [
        {
          "output_type": "execute_result",
          "data": {
            "text/plain": [
              "array([[0.5       , 0.5       , 0.5       ],\n",
              "       [0.5885562 , 0.35962319, 0.38485296],\n",
              "       [0.39555998, 0.32300414, 0.27667802],\n",
              "       [0.48350599, 0.21131785, 0.19309868]])"
            ]
          },
          "metadata": {},
          "execution_count": 39
        }
      ],
      "source": [
        "hidden_layer"
      ]
    },
    {
      "cell_type": "code",
      "execution_count": null,
      "metadata": {
        "colab": {
          "base_uri": "https://localhost:8080/"
        },
        "id": "_wAO8CoPA-gF",
        "outputId": "f67455d3-0484-42cf-c5f5-0ff3a3500374"
      },
      "outputs": [
        {
          "output_type": "execute_result",
          "data": {
            "text/plain": [
              "array([[ 0.00041597,  0.02185088, -0.00362142],\n",
              "       [-0.00057384, -0.02866677,  0.00488404],\n",
              "       [-0.00056316, -0.02705587,  0.00410378],\n",
              "       [ 0.00048268,  0.01692128, -0.00262183]])"
            ]
          },
          "metadata": {},
          "execution_count": 40
        }
      ],
      "source": [
        "#  Each row in the output of delta_hidden_layer is for the data input values\n",
        "\n",
        "delta_hidden_layer = delta_output_x_weight * sigmoid_derivative(hidden_layer)\n",
        "delta_hidden_layer"
      ]
    },
    {
      "cell_type": "markdown",
      "metadata": {
        "id": "ZVU1w01jA-gG"
      },
      "source": [
        "#### We will deal with the (input * delta) first\n",
        "* The first column in \"hidden_layer\" holds  the activation value for the first neuron"
      ]
    },
    {
      "cell_type": "code",
      "execution_count": null,
      "metadata": {
        "colab": {
          "base_uri": "https://localhost:8080/"
        },
        "id": "1G0sm68IA-gG",
        "outputId": "22886962-7ec9-48c1-b4ef-a002de95bafb"
      },
      "outputs": [
        {
          "output_type": "execute_result",
          "data": {
            "text/plain": [
              "array([[0.5       , 0.5       , 0.5       ],\n",
              "       [0.5885562 , 0.35962319, 0.38485296],\n",
              "       [0.39555998, 0.32300414, 0.27667802],\n",
              "       [0.48350599, 0.21131785, 0.19309868]])"
            ]
          },
          "metadata": {},
          "execution_count": 41
        }
      ],
      "source": [
        "hidden_layer"
      ]
    },
    {
      "cell_type": "code",
      "execution_count": null,
      "metadata": {
        "colab": {
          "base_uri": "https://localhost:8080/"
        },
        "id": "Q4AIloGNA-gG",
        "outputId": "b07e6cc8-91d7-41f0-d9aa-e1c5fd7a061d"
      },
      "outputs": [
        {
          "output_type": "execute_result",
          "data": {
            "text/plain": [
              "array([[-0.0978763 ],\n",
              "       [ 0.13939397],\n",
              "       [ 0.138553  ],\n",
              "       [-0.11369557]])"
            ]
          },
          "metadata": {},
          "execution_count": 42
        }
      ],
      "source": [
        "delta_output"
      ]
    },
    {
      "cell_type": "markdown",
      "metadata": {
        "id": "x6NvFT01A-gG"
      },
      "source": [
        "* We need to multiply the \"inputs\" by \"delta\" however, for the matrix multiplication we need to transpose the values in the hidden_layer, so we have all of them on one row for each neuron"
      ]
    },
    {
      "cell_type": "code",
      "execution_count": null,
      "metadata": {
        "colab": {
          "base_uri": "https://localhost:8080/"
        },
        "id": "cxV0Zg7VA-gG",
        "outputId": "c7b592da-abf8-48a1-f079-92d9f84c36ff"
      },
      "outputs": [
        {
          "output_type": "execute_result",
          "data": {
            "text/plain": [
              "array([[0.5       , 0.5885562 , 0.39555998, 0.48350599],\n",
              "       [0.5       , 0.35962319, 0.32300414, 0.21131785],\n",
              "       [0.5       , 0.38485296, 0.27667802, 0.19309868]])"
            ]
          },
          "metadata": {},
          "execution_count": 43
        }
      ],
      "source": [
        "hidden_layerT = hidden_layer.T\n",
        "hidden_layerT"
      ]
    },
    {
      "cell_type": "code",
      "execution_count": null,
      "metadata": {
        "colab": {
          "base_uri": "https://localhost:8080/"
        },
        "id": "HzbE7p3IA-gH",
        "outputId": "7e07925e-7987-4c2d-e1ab-b56b40b6bb5c"
      },
      "outputs": [
        {
          "output_type": "execute_result",
          "data": {
            "text/plain": [
              "array([[0.03293657],\n",
              "       [0.02191844],\n",
              "       [0.02108814]])"
            ]
          },
          "metadata": {},
          "execution_count": 44
        }
      ],
      "source": [
        "input_x_delta1 = hidden_layerT.dot(delta_output)\n",
        "input_x_delta1"
      ]
    },
    {
      "cell_type": "markdown",
      "metadata": {
        "id": "nZoKa9U2A-gH"
      },
      "source": [
        "#### Let us now update the \"weights_1\""
      ]
    },
    {
      "cell_type": "code",
      "execution_count": null,
      "metadata": {
        "colab": {
          "base_uri": "https://localhost:8080/"
        },
        "id": "KuNd2Zj-A-gH",
        "outputId": "5204363f-82c9-48f0-af6c-51e4322b34eb"
      },
      "outputs": [
        {
          "output_type": "execute_result",
          "data": {
            "text/plain": [
              "array([[-0.00711903],\n",
              "       [-0.88642447],\n",
              "       [ 0.15432644]])"
            ]
          },
          "metadata": {},
          "execution_count": 45
        }
      ],
      "source": [
        "weights_1 = weights_1 + (input_x_delta1 * learning_rate)\n",
        "weights_1"
      ]
    },
    {
      "cell_type": "markdown",
      "metadata": {
        "id": "e5Z8ottzA-gI"
      },
      "source": [
        "## Dealing with the Hidden Layer to Input Layer"
      ]
    },
    {
      "cell_type": "code",
      "execution_count": null,
      "metadata": {
        "colab": {
          "base_uri": "https://localhost:8080/"
        },
        "id": "yZy_Uw_HA-gI",
        "outputId": "20d77409-7354-4be5-c47f-4b9a32834470"
      },
      "outputs": [
        {
          "output_type": "execute_result",
          "data": {
            "text/plain": [
              "array([[0, 0],\n",
              "       [0, 1],\n",
              "       [1, 0],\n",
              "       [1, 1]])"
            ]
          },
          "metadata": {},
          "execution_count": 46
        }
      ],
      "source": [
        "# First column is X1, and 2nd column is X2 (our input values )\n",
        "\n",
        "input_layer"
      ]
    },
    {
      "cell_type": "code",
      "execution_count": null,
      "metadata": {
        "colab": {
          "base_uri": "https://localhost:8080/"
        },
        "id": "h5ocJU_6A-gI",
        "outputId": "90abb6a4-0afc-4ab9-98d1-8b3bdddcdea5"
      },
      "outputs": [
        {
          "output_type": "execute_result",
          "data": {
            "text/plain": [
              "array([[ 0.00041597,  0.02185088, -0.00362142],\n",
              "       [-0.00057384, -0.02866677,  0.00488404],\n",
              "       [-0.00056316, -0.02705587,  0.00410378],\n",
              "       [ 0.00048268,  0.01692128, -0.00262183]])"
            ]
          },
          "metadata": {},
          "execution_count": 47
        }
      ],
      "source": [
        "delta_hidden_layer"
      ]
    },
    {
      "cell_type": "code",
      "execution_count": null,
      "metadata": {
        "colab": {
          "base_uri": "https://localhost:8080/"
        },
        "id": "SxM41QcIA-gK",
        "outputId": "39ab557d-b4b3-4795-e542-af09deafa2a1"
      },
      "outputs": [
        {
          "output_type": "execute_result",
          "data": {
            "text/plain": [
              "array([[0, 0, 1, 1],\n",
              "       [0, 1, 0, 1]])"
            ]
          },
          "metadata": {},
          "execution_count": 48
        }
      ],
      "source": [
        "# we need to transpose the values just as we did before\n",
        "\n",
        "input_layerT = input_layer.T\n",
        "input_layerT"
      ]
    },
    {
      "cell_type": "code",
      "execution_count": null,
      "metadata": {
        "colab": {
          "base_uri": "https://localhost:8080/"
        },
        "id": "ixQZLVnuA-gL",
        "outputId": "b466cac8-7d9d-4005-bae9-954432dff992"
      },
      "outputs": [
        {
          "output_type": "execute_result",
          "data": {
            "text/plain": [
              "array([[-8.04778516e-05, -1.01345901e-02,  1.48194623e-03],\n",
              "       [-9.11603819e-05, -1.17454886e-02,  2.26221011e-03]])"
            ]
          },
          "metadata": {},
          "execution_count": 49
        }
      ],
      "source": [
        "input_x_delta0 = input_layerT.dot(delta_hidden_layer)\n",
        "input_x_delta0"
      ]
    },
    {
      "cell_type": "code",
      "execution_count": null,
      "metadata": {
        "colab": {
          "base_uri": "https://localhost:8080/"
        },
        "id": "OH01ZTQmA-gL",
        "outputId": "19fe42da-fe34-41d2-a4ca-595cf63c9aa4"
      },
      "outputs": [
        {
          "output_type": "execute_result",
          "data": {
            "text/plain": [
              "array([[-0.42402414, -0.74304038, -0.96055542],\n",
              "       [ 0.35797265, -0.58052365, -0.46832134]])"
            ]
          },
          "metadata": {},
          "execution_count": 50
        }
      ],
      "source": [
        "weights_0 = weights_0 + (input_x_delta0 * learning_rate)\n",
        "weights_0"
      ]
    },
    {
      "cell_type": "markdown",
      "metadata": {
        "id": "McoX46KOA-gM"
      },
      "source": [
        "### So all the lines of code above, has allowed us to complete our first epoch. we will need to put all the code together so we can run multiple epochs"
      ]
    },
    {
      "cell_type": "markdown",
      "metadata": {
        "id": "Qmto88dBA-gM"
      },
      "source": [
        "# Complete Artificial Neural Network"
      ]
    },
    {
      "cell_type": "code",
      "execution_count": null,
      "metadata": {
        "id": "kYqBVN8zA-gM"
      },
      "outputs": [],
      "source": [
        "#Importing Numpy\n",
        "import numpy as np\n",
        "\n",
        "# This is the sigmoid Function\n",
        "def sigmoid(sum):\n",
        "  return 1 / (1 + np.exp(-sum))\n",
        "\n",
        "#This is the sigmoid derivative as used before\n",
        "def sigmoid_derivative(sigmoid):\n",
        "  return sigmoid * (1 - sigmoid)\n",
        "\n",
        "# Our input values\n",
        "inputs = np.array([[0,0],\n",
        "                   [0,1],\n",
        "                   [1,0],\n",
        "                   [1,1]])\n",
        "#Our output values\n",
        "outputs = np.array([[0],\n",
        "                    [1],\n",
        "                    [1],\n",
        "                    [0]])"
      ]
    },
    {
      "cell_type": "code",
      "execution_count": null,
      "metadata": {
        "id": "ZBhZiqxpA-gN"
      },
      "outputs": [],
      "source": [
        "# weights_0 = np.array([[-0.424, -0.740, -0.961],\n",
        "#                     [0.358, -0.577, -0.469]])\n",
        "\n",
        "# weights_1 = np.array([[-0.017],\n",
        "#                     [-0.893],\n",
        "#                     [0.148]])"
      ]
    },
    {
      "cell_type": "markdown",
      "metadata": {
        "id": "kSpYB45tA-gN"
      },
      "source": [
        "### Initializing our weights with random values\n",
        "* <b>Note:</b> Multiplying the random number by 2 and subtracting by 1, allows us to have a mix of both positive and negative random numbers for the weights"
      ]
    },
    {
      "cell_type": "code",
      "execution_count": null,
      "metadata": {
        "id": "DmGCAr_lA-gN"
      },
      "outputs": [],
      "source": [
        "weights_0 = 2 * np.random.random((2, 3)) - 1\n",
        "weights_1 = 2 * np.random.random((3, 1)) - 1"
      ]
    },
    {
      "cell_type": "code",
      "execution_count": null,
      "metadata": {
        "colab": {
          "base_uri": "https://localhost:8080/"
        },
        "id": "RyuclMm4A-gO",
        "outputId": "f044843e-7611-4008-89e3-00fc19d67463"
      },
      "outputs": [
        {
          "output_type": "stream",
          "name": "stdout",
          "text": [
            "Epoch: 1 Error: 0.5003259637858799\n",
            "Epoch: 100001 Error: 0.021164937631784876\n",
            "Epoch: 200001 Error: 0.011781871787114935\n",
            "Epoch: 300001 Error: 0.009042190765112899\n"
          ]
        }
      ],
      "source": [
        "epochs = 400000\n",
        "learning_rate = 0.6\n",
        "error = []\n",
        "\n",
        "for epoch in range(epochs):\n",
        "  input_layer = inputs\n",
        "  sum_synapse0 = np.dot(input_layer, weights_0)\n",
        "  hidden_layer = sigmoid(sum_synapse0)\n",
        "\n",
        "  sum_synapse1 = np.dot(hidden_layer, weights_1)\n",
        "  output_layer = sigmoid(sum_synapse1)\n",
        "\n",
        "  error_output_layer = outputs - output_layer\n",
        "  average = np.mean(abs(error_output_layer))\n",
        "    #print after every specified range of the value\n",
        "  if epoch % 100000 == 0:\n",
        "    print('Epoch: ' + str(epoch + 1) + ' Error: ' + str(average))\n",
        "    error.append(average)\n",
        "\n",
        "  derivative_output = sigmoid_derivative(output_layer)\n",
        "  delta_output = error_output_layer * derivative_output\n",
        "\n",
        "  weights1T = weights_1.T\n",
        "  delta_output_weight = delta_output.dot(weights1T)\n",
        "  delta_hidden_layer = delta_output_weight * sigmoid_derivative(hidden_layer)\n",
        "\n",
        "  hidden_layerT = hidden_layer.T\n",
        "  input_x_delta1 = hidden_layerT.dot(delta_output)\n",
        "  weights_1 = weights_1 + (input_x_delta1 * learning_rate)\n",
        "\n",
        "  input_layerT = input_layer.T\n",
        "  input_x_delta0 = input_layerT.dot(delta_hidden_layer)\n",
        "  weights_0 = weights_0 + (input_x_delta0 * learning_rate)"
      ]
    },
    {
      "cell_type": "markdown",
      "metadata": {
        "id": "Xt5TYiTSA-gO"
      },
      "source": [
        "#### At this point after runing for 1million epochs you can see the value is very low."
      ]
    },
    {
      "cell_type": "code",
      "execution_count": null,
      "metadata": {
        "colab": {
          "base_uri": "https://localhost:8080/"
        },
        "id": "peb4fj8YA-gO",
        "outputId": "70b3cfb5-895d-4f12-d00b-3f67ee2c67d9"
      },
      "outputs": [
        {
          "output_type": "execute_result",
          "data": {
            "text/plain": [
              "0.9903290320690693"
            ]
          },
          "metadata": {},
          "execution_count": 55
        }
      ],
      "source": [
        "#1 million epochs with a learning rate of 0.3\n",
        "1 - 0.009670967930930745"
      ]
    },
    {
      "cell_type": "code",
      "execution_count": null,
      "metadata": {
        "colab": {
          "base_uri": "https://localhost:8080/"
        },
        "id": "T-FRlXi8A-gO",
        "outputId": "71f0d173-9181-4005-b5f5-ad935e96923b"
      },
      "outputs": [
        {
          "output_type": "execute_result",
          "data": {
            "text/plain": [
              "0.9918079771904136"
            ]
          },
          "metadata": {},
          "execution_count": 56
        }
      ],
      "source": [
        "#after 400,000 epochs, with a learning rate of 0.6\n",
        "1- 0.008192022809586367"
      ]
    },
    {
      "cell_type": "markdown",
      "metadata": {
        "id": "9A88EUSnA-gP"
      },
      "source": [
        "# Let's visualize this result"
      ]
    },
    {
      "cell_type": "code",
      "execution_count": null,
      "metadata": {
        "id": "AmrblnREA-gP"
      },
      "outputs": [],
      "source": [
        "import matplotlib.pyplot as plt\n"
      ]
    },
    {
      "cell_type": "code",
      "execution_count": null,
      "metadata": {
        "colab": {
          "base_uri": "https://localhost:8080/",
          "height": 472
        },
        "id": "PeY6dH-FA-gP",
        "outputId": "05e05e0e-1d16-4df5-ea0b-fa5482a4ea79"
      },
      "outputs": [
        {
          "output_type": "display_data",
          "data": {
            "text/plain": [
              "<Figure size 640x480 with 1 Axes>"
            ],
            "image/png": "[encoded data removed]"
          },
          "metadata": {}
        }
      ],
      "source": [
        "plt.xlabel('Number of Epochs')\n",
        "plt.ylabel('Error')\n",
        "plt.title('Plot showing results from Neural Network')\n",
        "plt.plot(error)\n",
        "plt.show()"
      ]
    },
    {
      "cell_type": "code",
      "execution_count": null,
      "metadata": {
        "colab": {
          "base_uri": "https://localhost:8080/",
          "height": 472
        },
        "id": "Y0Xnb3GPA-gP",
        "outputId": "ffd841f6-3e28-45c2-f73d-37ec9e085370"
      },
      "outputs": [
        {
          "output_type": "display_data",
          "data": {
            "text/plain": [
              "<Figure size 640x480 with 1 Axes>"
            ],
            "image/png": "[encoded data removed]"
          },
          "metadata": {}
        }
      ],
      "source": [
        "plt.xlabel('Number of Epochs')\n",
        "plt.ylabel('Error')\n",
        "plt.title('Plot showing results from Neural Network')\n",
        "plt.plot(error)\n",
        "plt.show()"
      ]
    },
    {
      "cell_type": "markdown",
      "metadata": {
        "id": "3jIGjq6cA-gQ"
      },
      "source": [
        "#### Compearing the outputs and the predictions"
      ]
    },
    {
      "cell_type": "code",
      "execution_count": null,
      "metadata": {
        "colab": {
          "base_uri": "https://localhost:8080/"
        },
        "id": "kRkhHA_hA-gQ",
        "outputId": "76ad281f-9818-4feb-e291-352fce717ec8"
      },
      "outputs": [
        {
          "output_type": "execute_result",
          "data": {
            "text/plain": [
              "array([[0],\n",
              "       [1],\n",
              "       [1],\n",
              "       [0]])"
            ]
          },
          "metadata": {},
          "execution_count": 61
        }
      ],
      "source": [
        "outputs"
      ]
    },
    {
      "cell_type": "code",
      "execution_count": null,
      "metadata": {
        "colab": {
          "base_uri": "https://localhost:8080/"
        },
        "id": "EVKO29JuA-gQ",
        "outputId": "f0d67d6f-e56e-49bb-b78e-a39fc7961b04"
      },
      "outputs": [
        {
          "output_type": "execute_result",
          "data": {
            "text/plain": [
              "array([[0.00829024],\n",
              "       [0.99347156],\n",
              "       [0.99347189],\n",
              "       [0.00908189]])"
            ]
          },
          "metadata": {},
          "execution_count": 62
        }
      ],
      "source": [
        "output_layer"
      ]
    },
    {
      "cell_type": "markdown",
      "metadata": {
        "id": "POf3SOc8A-gR"
      },
      "source": [
        "#### * We see that our neural network was able to get values close to the actual values from the results.\n",
        "#### * This shows that our neural network can handle the complexity of the XOR operator dataset."
      ]
    },
    {
      "cell_type": "markdown",
      "metadata": {
        "id": "cZk011QnA-gR"
      },
      "source": [
        "* Let us see the updated weights. These are the weights we will require if we want to make future predictions"
      ]
    },
    {
      "cell_type": "code",
      "execution_count": null,
      "metadata": {
        "colab": {
          "base_uri": "https://localhost:8080/"
        },
        "id": "2KtUcv7QA-gS",
        "outputId": "d416b71e-4277-4bdf-c8f7-d2544a35cb25"
      },
      "outputs": [
        {
          "output_type": "execute_result",
          "data": {
            "text/plain": [
              "array([[-12.82702195,  -1.02832193,   5.84460803],\n",
              "       [  5.84096403,  -1.02854009, -12.83616643]])"
            ]
          },
          "metadata": {},
          "execution_count": 63
        }
      ],
      "source": [
        "weights_0"
      ]
    },
    {
      "cell_type": "code",
      "execution_count": null,
      "metadata": {
        "colab": {
          "base_uri": "https://localhost:8080/"
        },
        "id": "DgxlqypyA-gU",
        "outputId": "68bd8a0e-dafc-4292-81db-4d9f807dee26"
      },
      "outputs": [
        {
          "output_type": "execute_result",
          "data": {
            "text/plain": [
              "array([[ 16.04172876],\n",
              "       [-41.65381278],\n",
              "       [ 16.04337893]])"
            ]
          },
          "metadata": {},
          "execution_count": 64
        }
      ],
      "source": [
        "weights_1"
      ]
    },
    {
      "cell_type": "code",
      "execution_count": null,
      "metadata": {
        "id": "v68EJLVwA-gV"
      },
      "outputs": [],
      "source": [
        "# This function accepts an instance of a dataset\n",
        "\n",
        "def calculate_output(instance):\n",
        "    #input to hidden layer\n",
        "    hidden_layer = sigmoid(np.dot(instance, weights_0))\n",
        "    #hidden to output layer\n",
        "    output_layer = sigmoid(np.dot(hidden_layer, weights_1))\n",
        "    return output_layer[0]"
      ]
    },
    {
      "cell_type": "code",
      "execution_count": null,
      "metadata": {
        "colab": {
          "base_uri": "https://localhost:8080/"
        },
        "id": "R4CiCk_4A-gV",
        "outputId": "16a58d1b-a314-4ad9-94dc-1b6e93ae6f0f"
      },
      "outputs": [
        {
          "output_type": "execute_result",
          "data": {
            "text/plain": [
              "0"
            ]
          },
          "metadata": {},
          "execution_count": 66
        }
      ],
      "source": [
        "round(calculate_output(np.array([0, 0])))"
      ]
    },
    {
      "cell_type": "code",
      "execution_count": null,
      "metadata": {
        "colab": {
          "base_uri": "https://localhost:8080/"
        },
        "id": "ijmbDQR3A-gV",
        "outputId": "52bd4a90-ad63-435b-ab0a-54ce2734f15e"
      },
      "outputs": [
        {
          "output_type": "execute_result",
          "data": {
            "text/plain": [
              "1"
            ]
          },
          "metadata": {},
          "execution_count": 67
        }
      ],
      "source": [
        "round(calculate_output(np.array([0, 1])))"
      ]
    },
    {
      "cell_type": "code",
      "execution_count": null,
      "metadata": {
        "colab": {
          "base_uri": "https://localhost:8080/"
        },
        "id": "7Cd5BrVkA-gW",
        "outputId": "26198f97-bb77-47b6-ad96-d98ca1f3179c"
      },
      "outputs": [
        {
          "output_type": "execute_result",
          "data": {
            "text/plain": [
              "1"
            ]
          },
          "metadata": {},
          "execution_count": 68
        }
      ],
      "source": [
        "round(calculate_output(np.array([1, 0])))"
      ]
    },
    {
      "cell_type": "code",
      "execution_count": null,
      "metadata": {
        "colab": {
          "base_uri": "https://localhost:8080/"
        },
        "id": "JxUQHkfiA-gW",
        "outputId": "185eaaf7-b54c-4a49-c5be-dc6b68447c7c"
      },
      "outputs": [
        {
          "output_type": "execute_result",
          "data": {
            "text/plain": [
              "0"
            ]
          },
          "metadata": {},
          "execution_count": 69
        }
      ],
      "source": [
        "round(calculate_output(np.array([1, 1])))"
      ]
    },
    {
      "cell_type": "code",
      "execution_count": null,
      "metadata": {
        "id": "Io6CPBMwA-gW"
      },
      "outputs": [],
      "source": []
    },
    {
      "cell_type": "markdown",
      "source": [
        "# Now, I look what some changes cause in the outputs:"
      ],
      "metadata": {
        "id": "2Kj9XcVSQ7y3"
      }
    },
    {
      "cell_type": "code",
      "source": [
        "#Importing Numpy\n",
        "import numpy as np\n",
        "\n",
        "# This is the sigmoid Function\n",
        "def sigmoid(sum):\n",
        "  return 1 / (1 + np.exp(-sum))\n",
        "\n",
        "#This is the sigmoid derivative as used before\n",
        "def sigmoid_derivative(sigmoid):\n",
        "  return sigmoid * (1 - sigmoid)\n",
        "\n",
        "# Our input values\n",
        "inputs = np.array([[0,0],\n",
        "                   [0,1],\n",
        "                   [1,0],\n",
        "                   [1,1]])\n",
        "#Our output values\n",
        "outputs = np.array([[0],\n",
        "                    [1],\n",
        "                    [1],\n",
        "                    [0]])"
      ],
      "metadata": {
        "id": "r3Gw30Y1RRKf"
      },
      "execution_count": null,
      "outputs": []
    },
    {
      "cell_type": "code",
      "source": [
        "weights_0 = np.array([[-0.424, -0.740, -0.961],\n",
        "                     [0.358, -0.577, -0.469]])\n",
        "\n",
        "weights_1 = np.array([[-0.017],\n",
        "                     [-0.893],\n",
        "                     [0.148]])"
      ],
      "metadata": {
        "id": "pRtrKtSSRUeI"
      },
      "execution_count": null,
      "outputs": []
    },
    {
      "cell_type": "code",
      "source": [
        "epochs = 400000\n",
        "learning_rate = 0.6\n",
        "error = []\n",
        "\n",
        "for epoch in range(epochs):\n",
        "  input_layer = inputs\n",
        "  sum_synapse0 = np.dot(input_layer, weights_0)\n",
        "  hidden_layer = sigmoid(sum_synapse0)\n",
        "\n",
        "  sum_synapse1 = np.dot(hidden_layer, weights_1)\n",
        "  output_layer = sigmoid(sum_synapse1)\n",
        "\n",
        "  error_output_layer = outputs - output_layer\n",
        "  average = np.mean(abs(error_output_layer))\n",
        "    #print after every specified range of the value\n",
        "  if epoch % 100000 == 0:\n",
        "    print('Epoch: ' + str(epoch + 1) + ' Error: ' + str(average))\n",
        "    error.append(average)\n",
        "\n",
        "  derivative_output = sigmoid_derivative(output_layer)\n",
        "  delta_output = error_output_layer * derivative_output\n",
        "\n",
        "  weights1T = weights_1.T\n",
        "  delta_output_weight = delta_output.dot(weights1T)\n",
        "  delta_hidden_layer = delta_output_weight * sigmoid_derivative(hidden_layer)\n",
        "\n",
        "  hidden_layerT = hidden_layer.T\n",
        "  input_x_delta1 = hidden_layerT.dot(delta_output)\n",
        "  weights_1 = weights_1 + (input_x_delta1 * learning_rate)\n",
        "\n",
        "  input_layerT = input_layer.T\n",
        "  input_x_delta0 = input_layerT.dot(delta_hidden_layer)\n",
        "  weights_0 = weights_0 + (input_x_delta0 * learning_rate)"
      ],
      "metadata": {
        "colab": {
          "base_uri": "https://localhost:8080/"
        },
        "id": "ghuu99fVRiU_",
        "outputId": "7c0fb006-fe2a-4814-f636-52e12b28c635"
      },
      "execution_count": null,
      "outputs": [
        {
          "output_type": "stream",
          "name": "stdout",
          "text": [
            "Epoch: 1 Error: 0.49880848923713045\n",
            "Epoch: 100001 Error: 0.04526291927049844\n",
            "Epoch: 200001 Error: 0.013595016117288182\n",
            "Epoch: 300001 Error: 0.009793595798675711\n"
          ]
        }
      ]
    },
    {
      "cell_type": "markdown",
      "source": [
        "**We here see how over the time, as more epochs are processed, the error decreases.**"
      ],
      "metadata": {
        "id": "kfYRnK6gRlcY"
      }
    },
    {
      "cell_type": "markdown",
      "source": [
        "I now increase the number of epochs:"
      ],
      "metadata": {
        "id": "MtNOlBP2RupH"
      }
    },
    {
      "cell_type": "code",
      "source": [
        "epochs = 1000000\n",
        "learning_rate = 0.6\n",
        "error = []\n",
        "\n",
        "for epoch in range(epochs):\n",
        "  input_layer = inputs\n",
        "  sum_synapse0 = np.dot(input_layer, weights_0)\n",
        "  hidden_layer = sigmoid(sum_synapse0)\n",
        "\n",
        "  sum_synapse1 = np.dot(hidden_layer, weights_1)\n",
        "  output_layer = sigmoid(sum_synapse1)\n",
        "\n",
        "  error_output_layer = outputs - output_layer\n",
        "  average = np.mean(abs(error_output_layer))\n",
        "    #print after every specified range of the value\n",
        "  if epoch % 100000 == 0:\n",
        "    print('Epoch: ' + str(epoch + 1) + ' Error: ' + str(average))\n",
        "    error.append(average)\n",
        "\n",
        "  derivative_output = sigmoid_derivative(output_layer)\n",
        "  delta_output = error_output_layer * derivative_output\n",
        "\n",
        "  weights1T = weights_1.T\n",
        "  delta_output_weight = delta_output.dot(weights1T)\n",
        "  delta_hidden_layer = delta_output_weight * sigmoid_derivative(hidden_layer)\n",
        "\n",
        "  hidden_layerT = hidden_layer.T\n",
        "  input_x_delta1 = hidden_layerT.dot(delta_output)\n",
        "  weights_1 = weights_1 + (input_x_delta1 * learning_rate)\n",
        "\n",
        "  input_layerT = input_layer.T\n",
        "  input_x_delta0 = input_layerT.dot(delta_hidden_layer)\n",
        "  weights_0 = weights_0 + (input_x_delta0 * learning_rate)"
      ],
      "metadata": {
        "colab": {
          "base_uri": "https://localhost:8080/"
        },
        "id": "xOdjEVrmRxf3",
        "outputId": "7118f6d3-b4f7-42db-e70a-2529df0997ba"
      },
      "execution_count": null,
      "outputs": [
        {
          "output_type": "stream",
          "name": "stdout",
          "text": [
            "Epoch: 1 Error: 0.49880848923713045\n",
            "Epoch: 100001 Error: 0.04526291927049844\n",
            "Epoch: 200001 Error: 0.013595016117288182\n",
            "Epoch: 300001 Error: 0.009793595798675711\n",
            "Epoch: 400001 Error: 0.00804014365484558\n",
            "Epoch: 500001 Error: 0.006979514796742261\n",
            "Epoch: 600001 Error: 0.006250362940229711\n",
            "Epoch: 700001 Error: 0.005709790446148516\n",
            "Epoch: 800001 Error: 0.0052884830796357425\n",
            "Epoch: 900001 Error: 0.004948226449431426\n"
          ]
        }
      ]
    },
    {
      "cell_type": "markdown",
      "source": [
        "**Here, we see how the error  decreases with more the epochs. However, we also see that changes in the error get smaller and smaller over time. Thus, it must always be evaluated how small is small enough when it comes to the error as more epochs are also associated with higher costs.**"
      ],
      "metadata": {
        "id": "nY9OITs-SRcA"
      }
    },
    {
      "cell_type": "markdown",
      "source": [
        "I now change the learning rate:"
      ],
      "metadata": {
        "id": "Xd6UQzeeSyQo"
      }
    },
    {
      "cell_type": "code",
      "source": [
        "epochs = 1000000\n",
        "learning_rate = 0.3\n",
        "error = []\n",
        "\n",
        "for epoch in range(epochs):\n",
        "  input_layer = inputs\n",
        "  sum_synapse0 = np.dot(input_layer, weights_0)\n",
        "  hidden_layer = sigmoid(sum_synapse0)\n",
        "\n",
        "  sum_synapse1 = np.dot(hidden_layer, weights_1)\n",
        "  output_layer = sigmoid(sum_synapse1)\n",
        "\n",
        "  error_output_layer = outputs - output_layer\n",
        "  average = np.mean(abs(error_output_layer))\n",
        "    #print after every specified range of the value\n",
        "  if epoch % 100000 == 0:\n",
        "    print('Epoch: ' + str(epoch + 1) + ' Error: ' + str(average))\n",
        "    error.append(average)\n",
        "\n",
        "  derivative_output = sigmoid_derivative(output_layer)\n",
        "  delta_output = error_output_layer * derivative_output\n",
        "\n",
        "  weights1T = weights_1.T\n",
        "  delta_output_weight = delta_output.dot(weights1T)\n",
        "  delta_hidden_layer = delta_output_weight * sigmoid_derivative(hidden_layer)\n",
        "\n",
        "  hidden_layerT = hidden_layer.T\n",
        "  input_x_delta1 = hidden_layerT.dot(delta_output)\n",
        "  weights_1 = weights_1 + (input_x_delta1 * learning_rate)\n",
        "\n",
        "  input_layerT = input_layer.T\n",
        "  input_x_delta0 = input_layerT.dot(delta_hidden_layer)\n",
        "  weights_0 = weights_0 + (input_x_delta0 * learning_rate)"
      ],
      "metadata": {
        "colab": {
          "base_uri": "https://localhost:8080/"
        },
        "id": "dyS3BwNSS8d4",
        "outputId": "e031b401-e379-49ed-a4c1-9b0cf887cd8d"
      },
      "execution_count": null,
      "outputs": [
        {
          "output_type": "stream",
          "name": "stdout",
          "text": [
            "Epoch: 1 Error: 0.49880848923713045\n",
            "Epoch: 100001 Error: 0.1331254882057026\n",
            "Epoch: 200001 Error: 0.0450675830551093\n",
            "Epoch: 300001 Error: 0.018475608259280997\n",
            "Epoch: 400001 Error: 0.013589473500672716\n",
            "Epoch: 500001 Error: 0.011238279129726591\n",
            "Epoch: 600001 Error: 0.009791513523031262\n",
            "Epoch: 700001 Error: 0.008787606952113117\n",
            "Epoch: 800001 Error: 0.008038989106921347\n",
            "Epoch: 900001 Error: 0.007453210458656285\n"
          ]
        }
      ]
    },
    {
      "cell_type": "markdown",
      "source": [
        "**We see that the change of the learning rate from 0.6 to 0.3 led to a slightly higher error, this way slightly decreasing the performance.**"
      ],
      "metadata": {
        "id": "q8C7e8ucTz8I"
      }
    },
    {
      "cell_type": "markdown",
      "source": [
        "**Overall, we again see how changes in the model's parameters change the outcome. These effects must be kept in mind when putting together the model and evaluating which number of epochs and which learning rate to use. It will often make sense to try different versions of number of epochs and learning rate to check which combination delivers the best result by also keeping the costs in mind.**\n",
        "\n",
        "**Changing the (initial) weights would also be possible and will also need to be evaluated.**"
      ],
      "metadata": {
        "id": "khGcdG6_Uc7Z"
      }
    }
  ],
  "metadata": {
    "kernelspec": {
      "display_name": "Python 3",
      "name": "python3"
    },
    "language_info": {
      "codemirror_mode": {
        "name": "ipython",
        "version": 3
      },
      "file_extension": ".py",
      "mimetype": "text/x-python",
      "name": "python",
      "nbconvert_exporter": "python",
      "pygments_lexer": "ipython3",
      "version": "3.7.6"
    },
    "colab": {
      "provenance": [],
      "gpuType": "T4"
    },
    "accelerator": "GPU"
  },
  "nbformat": 4,
  "nbformat_minor": 0
}