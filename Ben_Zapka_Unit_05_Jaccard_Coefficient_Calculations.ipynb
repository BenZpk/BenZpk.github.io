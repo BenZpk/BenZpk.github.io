{
  "nbformat": 4,
  "nbformat_minor": 0,
  "metadata": {
    "colab": {
      "provenance": []
    },
    "kernelspec": {
      "name": "python3",
      "display_name": "Python 3"
    },
    "language_info": {
      "name": "python"
    }
  },
  "cells": [
    {
      "cell_type": "markdown",
      "source": [
        "**First I load the needed libraries:**"
      ],
      "metadata": {
        "id": "zae1zfN1fqNM"
      }
    },
    {
      "cell_type": "code",
      "execution_count": null,
      "metadata": {
        "id": "Bk3z9JHKfjYh"
      },
      "outputs": [],
      "source": [
        "import pandas as pd\n",
        "import numpy as np"
      ]
    },
    {
      "cell_type": "markdown",
      "source": [
        "**Next I load the data:**"
      ],
      "metadata": {
        "id": "h77eQSR_fxsF"
      }
    },
    {
      "cell_type": "code",
      "source": [
        "import pandas as pd\n",
        "\n",
        "# Create a dictionary with the original letter-based data\n",
        "data = {\n",
        "    'Name': ['Jack', 'Mary', 'Jim'],\n",
        "    'Gender': ['M', 'F', 'M'],\n",
        "    'Fever': ['Y', 'Y', 'Y'],\n",
        "    'Cough': ['N', 'N', 'P'],\n",
        "    'Test-1': ['P', 'P', 'N'],\n",
        "    'Test-2': ['N', 'A', 'N'],\n",
        "    'Test-3': ['N', 'P', 'N'],\n",
        "    'Test-4': ['A', 'N', 'A']\n",
        "}\n",
        "\n",
        "# Convert dictionary to a DataFrame\n",
        "df = pd.DataFrame(data)\n",
        "\n",
        "# Display the DataFrame\n",
        "print(df)"
      ],
      "metadata": {
        "colab": {
          "base_uri": "https://localhost:8080/"
        },
        "id": "jcct-zhef40W",
        "outputId": "10c22489-edc1-442d-d434-d5842e407e4b"
      },
      "execution_count": null,
      "outputs": [
        {
          "output_type": "stream",
          "name": "stdout",
          "text": [
            "   Name Gender Fever Cough Test-1 Test-2 Test-3 Test-4\n",
            "0  Jack      M     Y     N      P      N      N      A\n",
            "1  Mary      F     Y     N      P      A      P      N\n",
            "2   Jim      M     Y     P      N      N      N      A\n"
          ]
        }
      ]
    },
    {
      "cell_type": "markdown",
      "source": [
        "**Next I calculate the Jaccard Coefficient:**"
      ],
      "metadata": {
        "id": "aUTmiwref5Zd"
      }
    },
    {
      "cell_type": "code",
      "source": [
        "# Create a function to calculate the Jaccard coefficient between two rows\n",
        "def jaccard_coefficient(row1, row2):\n",
        "    intersection = sum([1 for a, b in zip(row1, row2) if a == b])\n",
        "    union = len(row1)  # Union is total number of attributes since we are comparing identical structures\n",
        "    return intersection / union\n",
        "\n",
        "# Extract rows from the DataFrame (excluding the 'Name' column)\n",
        "jack = df.loc[0, 'Gender':]\n",
        "mary = df.loc[1, 'Gender':]\n",
        "jim = df.loc[2, 'Gender':]\n",
        "\n",
        "# Calculate and print the Jaccard coefficients\n",
        "print(\"Jaccard Coefficient (Jack, Mary):\", jaccard_coefficient(jack, mary))\n",
        "print(\"Jaccard Coefficient (Jack, Jim):\", jaccard_coefficient(jack, jim))\n",
        "print(\"Jaccard Coefficient (Jim, Mary):\", jaccard_coefficient(jim, mary))"
      ],
      "metadata": {
        "colab": {
          "base_uri": "https://localhost:8080/"
        },
        "id": "ke5uPk7Pf_Yv",
        "outputId": "36f3df25-60f6-46d1-a90f-3fc22519615d"
      },
      "execution_count": null,
      "outputs": [
        {
          "output_type": "stream",
          "name": "stdout",
          "text": [
            "Jaccard Coefficient (Jack, Mary): 0.42857142857142855\n",
            "Jaccard Coefficient (Jack, Jim): 0.7142857142857143\n",
            "Jaccard Coefficient (Jim, Mary): 0.14285714285714285\n"
          ]
        }
      ]
    },
    {
      "cell_type": "markdown",
      "source": [
        "**Finally, I interpret the results:**"
      ],
      "metadata": {
        "id": "z8jhi9E8gAjQ"
      }
    },
    {
      "cell_type": "markdown",
      "source": [
        "We see that Jack and Jim share quite a lot of values which also resonates in their Jaccard Coefficient being rather high.\n",
        "\n",
        "On the other side, we see that Jim and Mary have very few similarities which resonates in their Jaccard Coefficient being rather low."
      ],
      "metadata": {
        "id": "2UAKCyTIha-e"
      }
    }
  ]
}