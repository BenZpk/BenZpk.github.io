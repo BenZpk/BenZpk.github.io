{
  "cells": [
    {
      "cell_type": "code",
      "execution_count": null,
      "metadata": {
        "id": "SnGq1O-dlyhr",
        "outputId": "c4a0b611-e832-4a23-dfc4-69529ebaa6bf",
        "colab": {
          "base_uri": "https://localhost:8080/",
          "height": 447
        }
      },
      "outputs": [
        {
          "output_type": "stream",
          "name": "stdout",
          "text": [
            "Pearsons correlation: -0.759\n"
          ]
        },
        {
          "output_type": "display_data",
          "data": {
            "text/plain": [
              "<Figure size 640x480 with 1 Axes>"
            ],
            "image/png": "[encoded data removed]"
          },
          "metadata": {}
        }
      ],
      "source": [
        "import matplotlib.pyplot as plt\n",
        "from scipy import stats as stat\n",
        "\n",
        "#Create the arrays that represent the values of the x and y axis\n",
        "x = [5,7,8,7,2,17,2,9,4,11,12,9,6]\n",
        "y = [99,86,87,88,111,86,103,87,94,78,77,85,86]\n",
        "\n",
        "#Execute a method that returns some important key values of Linear Regression\n",
        "slope, intercept, r, p, std_err = stat.linregress(x, y)\n",
        "\n",
        "# measure the correlation\n",
        "corr, _ = stat.pearsonr(x, y)\n",
        "print('Pearsons correlation: %.3f' % corr)\n",
        "\n",
        "#Create a function that uses the slope and intercept values to return a new value.\n",
        "#This new value represents where on the y-axis the corresponding x value will be placed\n",
        "def myfunc(x):\n",
        "  return slope * x + intercept\n",
        "\n",
        "#Run each value of the x array through the function. This will result in a new array with new values for the y-axis\n",
        "mymodel = list(map(myfunc, x))\n",
        "\n",
        "#Draw the original scatter plot & the line of linear regression\n",
        "plt.scatter(x, y)\n",
        "plt.plot(x, mymodel)\n",
        "plt.show()\n"
      ]
    },
    {
      "cell_type": "markdown",
      "metadata": {
        "id": "bQ5bwrnplyhs"
      },
      "source": [
        "## Predict Future Values"
      ]
    },
    {
      "cell_type": "code",
      "execution_count": null,
      "metadata": {
        "id": "jauZ2IhOlyhs",
        "outputId": "a7b2b2d1-1474-438e-9d8f-8be081c12848"
      },
      "outputs": [
        {
          "name": "stdout",
          "output_type": "stream",
          "text": [
            "85.59308314937454\n"
          ]
        }
      ],
      "source": [
        "from scipy import stats\n",
        "\n",
        "x = [5,7,8,7,2,17,2,9,4,11,12,9,6]\n",
        "y = [99,86,87,88,111,86,103,87,94,78,77,85,86]\n",
        "\n",
        "slope, intercept, r, p, std_err = stats.linregress(x, y)\n",
        "\n",
        "def myfunc(x):\n",
        "  return intercept + slope * x\n",
        "\n",
        "speed = myfunc(10)\n",
        "\n",
        "print(speed)"
      ]
    },
    {
      "cell_type": "markdown",
      "metadata": {
        "id": "TC8xxqYBlyhs"
      },
      "source": [
        "![img_linear_regression2.png](attachment:img_linear_regression2.png)"
      ]
    },
    {
      "cell_type": "markdown",
      "metadata": {
        "id": "BAQxASMklyht"
      },
      "source": [
        "If x=10 then predicted y is 85.59"
      ]
    },
    {
      "cell_type": "markdown",
      "source": [
        "## Own adjustments of the given code"
      ],
      "metadata": {
        "id": "PmOeDzzEF96U"
      }
    },
    {
      "cell_type": "markdown",
      "source": [
        "**I next run the same analysis with different data that points at a positive correlation:**"
      ],
      "metadata": {
        "id": "SHcgDswhoM07"
      }
    },
    {
      "cell_type": "code",
      "source": [
        "# First I draw another regression line into the scatter plot of a different data set\n",
        "\n",
        "import matplotlib.pyplot as plt\n",
        "from scipy import stats as stat\n",
        "\n",
        "#Create the arrays that represent the values of the x and y axis\n",
        "x = [6,9,12,11,4,9,2,17,2,7,8,7,5]\n",
        "y = [99,86,87,88,111,86,103,87,94,78,77,85,86]\n",
        "\n",
        "#Execute a method that returns some important key values of Linear Regression\n",
        "slope, intercept, r, p, std_err = stat.linregress(x, y)\n",
        "\n",
        "# measure the correlation\n",
        "corr, _ = stat.pearsonr(x, y)\n",
        "print('Pearsons correlation: %.3f' % corr)\n",
        "\n",
        "#Create a function that uses the slope and intercept values to return a new value.\n",
        "#This new value represents where on the y-axis the corresponding x value will be placed\n",
        "def myfunc(x):\n",
        "  return slope * x + intercept\n",
        "\n",
        "#Run each value of the x array through the function. This will result in a new array with new values for the y-axis\n",
        "mymodel = list(map(myfunc, x))\n",
        "\n",
        "#Draw the original scatter plot & the line of linear regression\n",
        "plt.scatter(x, y)\n",
        "plt.plot(x, mymodel)\n",
        "plt.show()\n"
      ],
      "metadata": {
        "id": "qrkQJ9mLoTPz",
        "colab": {
          "base_uri": "https://localhost:8080/",
          "height": 447
        },
        "outputId": "418b9661-f97a-4a46-d266-da372e1089a7"
      },
      "execution_count": null,
      "outputs": [
        {
          "output_type": "stream",
          "name": "stdout",
          "text": [
            "Pearsons correlation: -0.475\n"
          ]
        },
        {
          "output_type": "display_data",
          "data": {
            "text/plain": [
              "<Figure size 640x480 with 1 Axes>"
            ],
            "image/png": "[encoded data removed]"
          },
          "metadata": {}
        }
      ]
    },
    {
      "cell_type": "code",
      "source": [],
      "metadata": {
        "id": "rDmQuOEGnBV4"
      },
      "execution_count": null,
      "outputs": []
    },
    {
      "cell_type": "markdown",
      "source": [
        "As we see, a different dataset results in a different scatter plot and a different regression line, as both are comprised from the data points."
      ],
      "metadata": {
        "id": "PI5Ho3MDmxUN"
      }
    },
    {
      "cell_type": "markdown",
      "source": [
        "**How does that change the prediction?**"
      ],
      "metadata": {
        "id": "GrA3vTgHm92Z"
      }
    },
    {
      "cell_type": "code",
      "source": [],
      "metadata": {
        "id": "nyk6X6-NnGAc"
      },
      "execution_count": null,
      "outputs": []
    },
    {
      "cell_type": "code",
      "source": [
        "from scipy import stats\n",
        "\n",
        "x = [6,9,12,11,4,9,2,17,2,7,8,7,5]\n",
        "y = [99,86,87,88,111,86,103,87,94,78,77,85,86]\n",
        "\n",
        "slope, intercept, r, p, std_err = stats.linregress(x, y)\n",
        "\n",
        "def myfunc(x):\n",
        "  return intercept + slope * x\n",
        "\n",
        "speed = myfunc(10)\n",
        "\n",
        "print(speed)"
      ],
      "metadata": {
        "colab": {
          "base_uri": "https://localhost:8080/"
        },
        "id": "snZd8Jt7nFe8",
        "outputId": "e03041a4-e376-41c0-fd5e-ec47bf5635e4"
      },
      "execution_count": null,
      "outputs": [
        {
          "output_type": "stream",
          "name": "stdout",
          "text": [
            "87.15562913907286\n"
          ]
        }
      ]
    },
    {
      "cell_type": "markdown",
      "source": [
        "Now, if x = 10 then y is expected to be about 87.16 which is a slight difference compared to the predicition with the old data set."
      ],
      "metadata": {
        "id": "usA1joIRnOAH"
      }
    }
  ],
  "metadata": {
    "kernelspec": {
      "display_name": "Python 3",
      "language": "python",
      "name": "python3"
    },
    "language_info": {
      "codemirror_mode": {
        "name": "ipython",
        "version": 3
      },
      "file_extension": ".py",
      "mimetype": "text/x-python",
      "name": "python",
      "nbconvert_exporter": "python",
      "pygments_lexer": "ipython3",
      "version": "3.7.6"
    },
    "colab": {
      "provenance": []
    }
  },
  "nbformat": 4,
  "nbformat_minor": 0
}