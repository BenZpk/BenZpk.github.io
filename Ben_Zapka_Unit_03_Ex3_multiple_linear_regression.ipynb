{
  "cells": [
    {
      "cell_type": "code",
      "execution_count": null,
      "metadata": {
        "colab": {
          "base_uri": "https://localhost:8080/"
        },
        "id": "mi8I9MV0mOX2",
        "outputId": "8f99fb6a-177a-40de-e3c7-863b3604de7b"
      },
      "outputs": [
        {
          "output_type": "stream",
          "name": "stdout",
          "text": [
            "Index(['mpg', 'cylinders', 'displacement', 'horsepower', 'weight',\n",
            "       'acceleration', 'model year', 'origin', 'car name'],\n",
            "      dtype='object')\n",
            "[27.58336259]\n"
          ]
        },
        {
          "output_type": "stream",
          "name": "stderr",
          "text": [
            "/usr/local/lib/python3.10/dist-packages/sklearn/base.py:493: UserWarning: X does not have valid feature names, but LinearRegression was fitted with feature names\n",
            "  warnings.warn(\n"
          ]
        }
      ],
      "source": [
        "import pandas as pd\n",
        "from sklearn import linear_model\n",
        "import numpy as np\n",
        "\n",
        "df = pandas.read_csv(\"Unit03 cars.csv\")\n",
        "\n",
        "# Check the actual column names in the DataFrame\n",
        "print(df.columns)\n",
        "\n",
        "# I need to change '?' strings to missing values to be able to conduct this analysis.\n",
        "# Replace '?' with NaN\n",
        "df.replace('?', np.nan, inplace=True)\n",
        "\n",
        "# Convert columns to numeric, coercing errors to NaN\n",
        "df['weight'] = pd.to_numeric(df['weight'], errors='coerce')\n",
        "df['horsepower'] = pd.to_numeric(df['horsepower'], errors='coerce')\n",
        "df['mpg'] = pd.to_numeric(df['mpg'], errors='coerce')\n",
        "\n",
        "# Drop rows with missing values in the specified columns\n",
        "df.dropna(subset=['weight', 'horsepower', 'mpg'], inplace=True)\n",
        "\n",
        "\n",
        "# The previously mentioned Weight, Volume and CO2 columns in this code do not exist and thus need to be changed.\n",
        "# I thus here use weight and horsepower for X and mpg for y.\n",
        "X = df[['weight', 'horsepower']]\n",
        "y = df['mpg']\n",
        "\n",
        "regr = linear_model.LinearRegression()\n",
        "regr.fit(X, y)\n",
        "\n",
        "#predict the mpg emission of a car where the weight is 2300kg, and the car has 100 horsepowers:\n",
        "predictedmpg = regr.predict([[2300, 100]])\n",
        "\n",
        "print(predictedmpg)"
      ]
    },
    {
      "cell_type": "markdown",
      "metadata": {
        "id": "zvSq3HIMmOX6"
      },
      "source": [
        "# Coefficient"
      ]
    },
    {
      "cell_type": "markdown",
      "metadata": {
        "id": "MmP4tMKVmOX7"
      },
      "source": [
        "The coefficient is a factor that describes the relationship with an unknown variable.\n",
        "In this case, we can ask for the coefficient value of weight against CO2, and for volume against CO2. The answer(s) we get tells us what would happen if we increase, or decrease, one of the independent values."
      ]
    },
    {
      "cell_type": "code",
      "execution_count": null,
      "metadata": {
        "id": "zG9lcevkmOX8",
        "outputId": "2369c60c-e9b3-4d3e-e843-1a17c525786b",
        "colab": {
          "base_uri": "https://localhost:8080/"
        }
      },
      "outputs": [
        {
          "output_type": "stream",
          "name": "stdout",
          "text": [
            "[-0.00579416 -0.04730286]\n"
          ]
        }
      ],
      "source": [
        "print(regr.coef_)"
      ]
    },
    {
      "cell_type": "markdown",
      "metadata": {
        "id": "TIBM2BBQmOX9"
      },
      "source": [
        "The result array represents the coefficient values of weight and volume.\n",
        "\n",
        "Weight: 0.00755095\n",
        "Volume: 0.00780526\n",
        "\n",
        "These values tell us that if the weight increase by 1kg, the CO2 emission increases by 0.00755095g.\n",
        "\n",
        "And if the engine size (Volume) increases by 1 cm3, the CO2 emission increases by 0.00780526 g.\n",
        "\n",
        "I think that is a fair guess, but let test it!\n",
        "\n",
        "We have already predicted that if a car with a 1300cm3 engine weighs 2300kg, the CO2 emission will be approximately 107g.\n",
        "\n",
        "What if we increase the weight with 1000kg (from 2300 to 3300) what will be the CO2 emission?\n",
        "\n",
        "Ans: 107.2087328 + (1000 * 0.00755095) = 114.75968"
      ]
    },
    {
      "cell_type": "code",
      "execution_count": null,
      "metadata": {
        "id": "Kk32rH_mmOX-",
        "outputId": "634d0e95-cab0-4803-d523-cca34f9ec14d",
        "colab": {
          "base_uri": "https://localhost:8080/"
        }
      },
      "outputs": [
        {
          "output_type": "stream",
          "name": "stdout",
          "text": [
            "[23.84661375]\n"
          ]
        },
        {
          "output_type": "stream",
          "name": "stderr",
          "text": [
            "/usr/local/lib/python3.10/dist-packages/sklearn/base.py:493: UserWarning: X does not have valid feature names, but LinearRegression was fitted with feature names\n",
            "  warnings.warn(\n"
          ]
        }
      ],
      "source": [
        "predictedmpg = regr.predict([[2700, 130]])\n",
        "\n",
        "print(predictedmpg)"
      ]
    },
    {
      "cell_type": "markdown",
      "source": [
        "## Here are my experiments with the underlying data sets and how this changes the results:"
      ],
      "metadata": {
        "id": "6gi716UKsX0s"
      }
    },
    {
      "cell_type": "markdown",
      "source": [
        "**I also had to practice with the underlying code a bit to fix the code above to make it run as it should (see my commentaries in the code). Now I additionally also calculate an additional multivariate linear regression:**"
      ],
      "metadata": {
        "id": "25zPrO1fG13y"
      }
    },
    {
      "cell_type": "code",
      "source": [
        "import pandas as pd\n",
        "from sklearn import linear_model\n",
        "import numpy as np\n",
        "\n",
        "df = pandas.read_csv(\"Unit03 cars.csv\")\n",
        "\n",
        "# Check the actual column names in the DataFrame\n",
        "print(df.columns)\n",
        "\n",
        "#I now analyse the influence that the number of cylinders and the displacement have on miles per gallon:\n",
        "\n",
        "# I need to change '?' strings to missing values to be able to conduct this analysis.\n",
        "# Replace '?' with NaN\n",
        "df.replace('?', np.nan, inplace=True)\n",
        "\n",
        "# Convert columns to numeric, coercing errors to NaN\n",
        "df['cylinders'] = pd.to_numeric(df['cylinders'], errors='coerce')\n",
        "df['displacement'] = pd.to_numeric(df['displacement'], errors='coerce')\n",
        "df['mpg'] = pd.to_numeric(df['mpg'], errors='coerce')\n",
        "\n",
        "# Drop rows with missing values in the specified columns\n",
        "df.dropna(subset=['cylinders', 'displacement', 'mpg'], inplace=True)\n",
        "\n",
        "\n",
        "# The previously mentioned Weight, Volume and CO2 columns in this code do not exist and thus need to be changed.\n",
        "# I thus here use weight and horsepower for X and mpg for y.\n",
        "X = df[['cylinders', 'displacement']]\n",
        "y = df['mpg']\n",
        "\n",
        "regr2 = linear_model.LinearRegression()\n",
        "regr2.fit(X, y)\n",
        "\n",
        "#predict the mpg emission of a car with 4 cylinders, and the car has a displacement of 6 liters:\n",
        "predictedmpg = regr.predict([[4, 6]])\n",
        "\n",
        "print(predictedmpg)"
      ],
      "metadata": {
        "id": "_PIfBEMVshaA",
        "colab": {
          "base_uri": "https://localhost:8080/"
        },
        "outputId": "101b5e45-1c09-4bf2-dd6e-e5f7c9c2c7b1"
      },
      "execution_count": null,
      "outputs": [
        {
          "output_type": "stream",
          "name": "stdout",
          "text": [
            "Index(['mpg', 'cylinders', 'displacement', 'horsepower', 'weight',\n",
            "       'acceleration', 'model year', 'origin', 'car name'],\n",
            "      dtype='object')\n",
            "[34.06178958]\n"
          ]
        },
        {
          "output_type": "stream",
          "name": "stderr",
          "text": [
            "/usr/local/lib/python3.10/dist-packages/sklearn/base.py:493: UserWarning: X does not have valid feature names, but LinearRegression was fitted with feature names\n",
            "  warnings.warn(\n"
          ]
        }
      ]
    },
    {
      "cell_type": "markdown",
      "source": [
        "**Next, I again print the regression coefficients:**"
      ],
      "metadata": {
        "id": "aZSHuu3FIhBB"
      }
    },
    {
      "cell_type": "code",
      "source": [
        "print(regr2.coef_)"
      ],
      "metadata": {
        "colab": {
          "base_uri": "https://localhost:8080/"
        },
        "id": "-e34CSasIl1p",
        "outputId": "a3f235b4-55ae-4528-b313-dd2360f219d6"
      },
      "execution_count": null,
      "outputs": [
        {
          "output_type": "stream",
          "name": "stdout",
          "text": [
            "[-0.51735734 -0.05225841]\n"
          ]
        }
      ]
    },
    {
      "cell_type": "markdown",
      "source": [
        "**And finally I again create a prediction:**"
      ],
      "metadata": {
        "id": "nZ0QR0dDIuQQ"
      }
    },
    {
      "cell_type": "code",
      "source": [
        "# Prediction for the mpg for a car with 5 cylinders and a displacement of 10:\n",
        "predictedmpg = regr.predict([[5, 10]])\n",
        "\n",
        "print(predictedmpg)"
      ],
      "metadata": {
        "colab": {
          "base_uri": "https://localhost:8080/"
        },
        "id": "Kzqrm2cyIx6P",
        "outputId": "f3bb88f9-a0e5-4388-a5a0-5545595222a7"
      },
      "execution_count": null,
      "outputs": [
        {
          "output_type": "stream",
          "name": "stdout",
          "text": [
            "[33.33539859]\n"
          ]
        },
        {
          "output_type": "stream",
          "name": "stderr",
          "text": [
            "/usr/local/lib/python3.10/dist-packages/sklearn/base.py:493: UserWarning: X does not have valid feature names, but LinearRegression was fitted with feature names\n",
            "  warnings.warn(\n"
          ]
        }
      ]
    }
  ],
  "metadata": {
    "kernelspec": {
      "display_name": "Python 3",
      "language": "python",
      "name": "python3"
    },
    "language_info": {
      "codemirror_mode": {
        "name": "ipython",
        "version": 3
      },
      "file_extension": ".py",
      "mimetype": "text/x-python",
      "name": "python",
      "nbconvert_exporter": "python",
      "pygments_lexer": "ipython3",
      "version": "3.7.6"
    },
    "colab": {
      "provenance": []
    }
  },
  "nbformat": 4,
  "nbformat_minor": 0
}